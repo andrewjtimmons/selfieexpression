{
 "metadata": {
  "name": "",
  "signature": "sha256:cdbf775fb6909896d4066cdd8a02da411e8a9caf61eb85c90b2fe9efa1913a12"
 },
 "nbformat": 3,
 "nbformat_minor": 0,
 "worksheets": [
  {
   "cells": [
    {
     "cell_type": "code",
     "collapsed": false,
     "input": [
      "import numpy as np\n",
      "import pandas as pd\n",
      "import cv2\n",
      "from sklearn import datasets\n",
      "import os\n",
      "\n",
      "from PIL import Image\n",
      "import urllib2\n",
      "import cStringIO\n",
      "\n",
      "\n",
      "face_cascade = cv2.CascadeClassifier('/Users/andrewjtimmons/anaconda/share/OpenCV/haarcascades/haarcascade_frontalface_default.xml')\n",
      "eye_cascade = cv2.CascadeClassifier('/Users/andrewjtimmons/anaconda/share/OpenCV/haarcascades/haarcascade_eye.xml')\n",
      "mouth_cascade = cv2.CascadeClassifier('/Users/andrewjtimmons/anaconda/share/OpenCV/haarcascades/haarcascade_mcs_mouth.xml')\n",
      "nose_cascade = cv2.CascadeClassifier('/Users/andrewjtimmons/anaconda/share/OpenCV/haarcascades/haarcascade_mcs_nose.xml')\n",
      "smile_cascade = cv2.CascadeClassifier('/Users/andrewjtimmons/anaconda/share/OpenCV/haarcascades/haarcascade_smile.xml')\n",
      "\n",
      "def create_opencv_image_from_cStringIO(img_stream, cv2_img_flag=0):\n",
      "    img_stream.seek(0)\n",
      "    img_array = np.asarray(bytearray(img_stream.read()), dtype=np.uint8)\n",
      "    return cv2.imdecode(img_array, cv2_img_flag)\n",
      "\n",
      "def create_opencv_image_from_url(url, CV_LOAD_IMAGE_COLOR = True):\n",
      "    request = urllib2.urlopen(url)\n",
      "    img_array = np.asarray(bytearray(request.read()), dtype=np.uint8)\n",
      "    return cv2.imdecode(img_array, cv2_img_flag)\n",
      "\n",
      "\n",
      "\n",
      "\n",
      "\n",
      "#imgURL = 'http://scontent-b.cdninstagram.com/hphotos-xfa1/t51.2885-15/10864805_880408875336991_181445591_n.jpg'\n",
      "imgURL =  'http://scontent-b.cdninstagram.com/hphotos-xaf1/t51.2885-15/10808802_1541192982795799_153155160_n.jpg'\n",
      "#img_file = urllib2.urlopen(imgURL)\n",
      "#im = cStringIO.StringIO(img_file.read())\n",
      "#source = Image.open(im)\n",
      "\n",
      "#print np.array(source)\n",
      "#print type(source)\n",
      "#print dir(source)\n",
      "#f = cStringIO.StringIO(urllib2.urlopen(imgURL).read())\n",
      "#img = Image.open(f)\n",
      "#img = cv2.imread(str(source))\n",
      "img = create_opencv_image_from_url(imgURL, cv2_img_flag=0)\n",
      "#img = cv2.imread('/Users/andrewjtimmons/Desktop/pics/1.jpg')\n",
      "cv2.imshow('img',img)\n",
      "cv2.waitKey(0)\n",
      "cv2.destroyAllWindows()\n",
      "#print img\n",
      "gray = cv2.cvtColor(img, cv2.COLOR_BGR2GRAY)"
     ],
     "language": "python",
     "metadata": {},
     "outputs": [
      {
       "ename": "TypeError",
       "evalue": "Required argument 'flags' (pos 2) not found",
       "output_type": "pyerr",
       "traceback": [
        "\u001b[0;31m---------------------------------------------------------------------------\u001b[0m\n\u001b[0;31mTypeError\u001b[0m                                 Traceback (most recent call last)",
        "\u001b[0;32m<ipython-input-1-481a9f5adeb5>\u001b[0m in \u001b[0;36m<module>\u001b[0;34m()\u001b[0m\n\u001b[1;32m     42\u001b[0m \u001b[0;31m#img = Image.open(f)\u001b[0m\u001b[0;34m\u001b[0m\u001b[0;34m\u001b[0m\u001b[0m\n\u001b[1;32m     43\u001b[0m \u001b[0;31m#img = cv2.imread(str(source))\u001b[0m\u001b[0;34m\u001b[0m\u001b[0;34m\u001b[0m\u001b[0m\n\u001b[0;32m---> 44\u001b[0;31m \u001b[0mimg\u001b[0m \u001b[0;34m=\u001b[0m \u001b[0mcreate_opencv_image_from_url\u001b[0m\u001b[0;34m(\u001b[0m\u001b[0mimgURL\u001b[0m\u001b[0;34m,\u001b[0m \u001b[0mcv2_img_flag\u001b[0m\u001b[0;34m=\u001b[0m\u001b[0;36m0\u001b[0m\u001b[0;34m)\u001b[0m\u001b[0;34m\u001b[0m\u001b[0m\n\u001b[0m\u001b[1;32m     45\u001b[0m \u001b[0;31m#img = cv2.imread('/Users/andrewjtimmons/Desktop/pics/1.jpg')\u001b[0m\u001b[0;34m\u001b[0m\u001b[0;34m\u001b[0m\u001b[0m\n\u001b[1;32m     46\u001b[0m \u001b[0mcv2\u001b[0m\u001b[0;34m.\u001b[0m\u001b[0mimshow\u001b[0m\u001b[0;34m(\u001b[0m\u001b[0;34m'img'\u001b[0m\u001b[0;34m,\u001b[0m\u001b[0mimg\u001b[0m\u001b[0;34m)\u001b[0m\u001b[0;34m\u001b[0m\u001b[0m\n",
        "\u001b[0;32m<ipython-input-1-481a9f5adeb5>\u001b[0m in \u001b[0;36mcreate_opencv_image_from_url\u001b[0;34m(url, cv2_img_flag)\u001b[0m\n\u001b[1;32m     24\u001b[0m     \u001b[0mrequest\u001b[0m \u001b[0;34m=\u001b[0m \u001b[0murllib2\u001b[0m\u001b[0;34m.\u001b[0m\u001b[0murlopen\u001b[0m\u001b[0;34m(\u001b[0m\u001b[0murl\u001b[0m\u001b[0;34m)\u001b[0m\u001b[0;34m\u001b[0m\u001b[0m\n\u001b[1;32m     25\u001b[0m     \u001b[0mimg_array\u001b[0m \u001b[0;34m=\u001b[0m \u001b[0mnp\u001b[0m\u001b[0;34m.\u001b[0m\u001b[0masarray\u001b[0m\u001b[0;34m(\u001b[0m\u001b[0mbytearray\u001b[0m\u001b[0;34m(\u001b[0m\u001b[0mrequest\u001b[0m\u001b[0;34m.\u001b[0m\u001b[0mread\u001b[0m\u001b[0;34m(\u001b[0m\u001b[0;34m)\u001b[0m\u001b[0;34m)\u001b[0m\u001b[0;34m,\u001b[0m \u001b[0mdtype\u001b[0m\u001b[0;34m=\u001b[0m\u001b[0mnp\u001b[0m\u001b[0;34m.\u001b[0m\u001b[0muint8\u001b[0m\u001b[0;34m)\u001b[0m\u001b[0;34m\u001b[0m\u001b[0m\n\u001b[0;32m---> 26\u001b[0;31m     \u001b[0;32mreturn\u001b[0m \u001b[0mcv2\u001b[0m\u001b[0;34m.\u001b[0m\u001b[0mimdecode\u001b[0m\u001b[0;34m(\u001b[0m\u001b[0mimg_array\u001b[0m\u001b[0;34m,\u001b[0m \u001b[0mCV_LOAD_IMAGE_COLOR\u001b[0m \u001b[0;34m=\u001b[0m \u001b[0mTrue\u001b[0m\u001b[0;34m)\u001b[0m\u001b[0;34m\u001b[0m\u001b[0m\n\u001b[0m\u001b[1;32m     27\u001b[0m \u001b[0;34m\u001b[0m\u001b[0m\n\u001b[1;32m     28\u001b[0m \u001b[0;34m\u001b[0m\u001b[0m\n",
        "\u001b[0;31mTypeError\u001b[0m: Required argument 'flags' (pos 2) not found"
       ]
      }
     ],
     "prompt_number": 1
    },
    {
     "cell_type": "code",
     "collapsed": false,
     "input": [
      "faces = face_cascade.detectMultiScale(img, 1.3, 5)\n",
      "for (x,y,w,h) in faces:\n",
      "    cv2.rectangle(img,(x,y),(x+w,y+h),(255,0,0),2)\n",
      "    roi_gray = gray[y:y+h, x:x+w]\n",
      "    roi_color = img[y:y+h, x:x+w]\n",
      "    eyes = eye_cascade.detectMultiScale(roi_gray)\n",
      "    for (ex,ey,ew,eh) in eyes:\n",
      "        cv2.rectangle(roi_color,(ex,ey),(ex+ew,ey+eh),(0,255,0),2)\n",
      "    \n",
      "    #once you have the eyes you want to look for the nose below the eyes\n",
      "    #ynose = y*1.33\n",
      "    y_eyes = y + eyes[0][1]\n",
      "    face_bottom = h - eyes[0][1]\n",
      "    cv2.line(img, (0, y_eyes+face_bottom), (x, y_eyes+face_bottom), (0,0,255), thickness=1, lineType=8, shift=0)\n",
      "    roi_gray_nose = gray[y_eyes:y_eyes+face_bottom, x:x+w]\n",
      "    roi_color_nose = img[y_eyes:y_eyes+face_bottom, x:x+w]\n",
      "    nose = nose_cascade.detectMultiScale(roi_gray_nose)\n",
      "    for (nx,ny,nw,nh) in nose:\n",
      "        cv2.rectangle(roi_color_nose, (nx,ny), (nx+nw, ny+nh), (0,0,255),2)\n",
      "    \n",
      "    #mouths are below noses\n",
      "    y_nose_bottom = y_eyes + nose[0][1] + nose[0][3]\n",
      "    cv2.line(img, (0, y_nose_bottom), (x, y_nose_bottom), (0,0,255), thickness=1, lineType=8, shift=0)\n",
      "    roi_gray_mouth = gray[y_nose_bottom:y+h, x:x+w]\n",
      "    roi_color_mouth = img[y_nose_bottom:y+h, x:x+w]\n",
      "    smile = smile_cascade.detectMultiScale(roi_gray_mouth)\n",
      "    for (sx,sy,sw,sh) in smile:\n",
      "        cv2.rectangle(roi_color_mouth, (sx,sy), (sx+sw, sy+sh), (255,0,255),2)\n",
      "    \n",
      "    mouth = mouth_cascade.detectMultiScale(roi_gray)\n",
      "    for (sx,sy,sw,sh) in mouth:\n",
      "        cv2.rectangle(roi_color_mouth, (sx,sy), (sx+sw, sy+sh), (255,255,255),2)\n",
      "    \n",
      "cv2.imshow('img',img)\n",
      "cv2.waitKey(0)\n",
      "cv2.destroyAllWindows()"
     ],
     "language": "python",
     "metadata": {},
     "outputs": []
    },
    {
     "cell_type": "code",
     "collapsed": false,
     "input": [
      "print roi_gray"
     ],
     "language": "python",
     "metadata": {},
     "outputs": [
      {
       "output_type": "stream",
       "stream": "stdout",
       "text": [
        "[[146 146 145 ...,  33  36  47]\n",
        " [144 144 144 ...,  42  34  39]\n",
        " [145 146 146 ...,  58  69  67]\n",
        " ..., \n",
        " [ 20  23  20 ..., 166 168 163]\n",
        " [ 23  15  14 ..., 166 169 164]\n",
        " [ 23  26  29 ..., 167 169 164]]\n"
       ]
      }
     ],
     "prompt_number": 5
    },
    {
     "cell_type": "code",
     "collapsed": false,
     "input": [
      "path = '/Users/andrewjtimmons/Desktop/pics/'\n",
      "dirListing = os.listdir(path)\n",
      "imgList = []\n",
      "for item in dirListing:\n",
      "  if \".jpg\" in item:\n",
      "    imgList.append(path+item)\n",
      "print imgList"
     ],
     "language": "python",
     "metadata": {},
     "outputs": [
      {
       "output_type": "stream",
       "stream": "stdout",
       "text": [
        "['/Users/andrewjtimmons/Desktop/pics/1.jpg', '/Users/andrewjtimmons/Desktop/pics/10.jpg', '/Users/andrewjtimmons/Desktop/pics/11.jpg', '/Users/andrewjtimmons/Desktop/pics/12.jpg', '/Users/andrewjtimmons/Desktop/pics/13.jpg', '/Users/andrewjtimmons/Desktop/pics/14.jpg', '/Users/andrewjtimmons/Desktop/pics/2.jpg', '/Users/andrewjtimmons/Desktop/pics/3.jpg', '/Users/andrewjtimmons/Desktop/pics/4.jpg', '/Users/andrewjtimmons/Desktop/pics/5.jpg', '/Users/andrewjtimmons/Desktop/pics/6.jpg', '/Users/andrewjtimmons/Desktop/pics/7.jpg']\n"
       ]
      }
     ],
     "prompt_number": 6
    },
    {
     "cell_type": "code",
     "collapsed": false,
     "input": [
      "images = []\n",
      "for image in imgList:\n",
      "    images.append(cv2.imread(image))"
     ],
     "language": "python",
     "metadata": {},
     "outputs": [],
     "prompt_number": 7
    },
    {
     "cell_type": "code",
     "collapsed": false,
     "input": [
      "images \n",
      "faces = face_cascade.detectMultiScale(images[1], 1.3, 5)\n",
      "for (x,y,w,h) in faces:\n",
      "    cv2.rectangle(img,(x,y),(x+w,y+h),(255,0,0),2)\n",
      "    roi_gray = gray[y:y+h, x:x+w]\n",
      "    roi_color = img[y:y+h, x:x+w]\n",
      "    eyes = eye_cascade.detectMultiScale(roi_gray)\n",
      "    for (ex,ey,ew,eh) in eyes:\n",
      "        cv2.rectangle(roi_color,(ex,ey),(ex+ew,ey+eh),(0,255,0),2)\n",
      "\n",
      "cv2.imshow('img',img)\n",
      "cv2.waitKey(0)\n",
      "cv2.destroyAllWindows()"
     ],
     "language": "python",
     "metadata": {},
     "outputs": [],
     "prompt_number": 8
    },
    {
     "cell_type": "code",
     "collapsed": false,
     "input": [
      "for x in range(1,8):\n",
      "    img = cv2.imread('/Users/andrewjtimmons/Desktop/PICS/%d.jpg' % x)\n",
      "    faces = face_cascade.detectMultiScale(img, 1.3, 5)\n",
      "    for (x,y,w,h) in faces:\n",
      "        cv2.rectangle(img,(x,y),(x+w,y+h),(255,0,0),2)\n",
      "        roi_gray = gray[y:y+h, x:x+w]\n",
      "        roi_color = img[y:y+h, x:x+w]\n",
      "        eyes = eye_cascade.detectMultiScale(roi_gray)\n",
      "        for (ex,ey,ew,eh) in eyes:\n",
      "            cv2.rectangle(roi_color,(ex,ey),(ex+ew,ey+eh),(0,255,0),2)\n",
      "\n",
      "        #once you have the eyes you want to look for the nose below the eyes\n",
      "        #ynose = y*1.33\n",
      "        y_eyes = y + eyes[0][1]\n",
      "        face_bottom = h - eyes[0][1]\n",
      "        cv2.line(img, (0, y_eyes+face_bottom), (x, y_eyes+face_bottom), (0,0,255), thickness=1, lineType=8, shift=0)\n",
      "        roi_gray_nose = gray[y_eyes:y_eyes+face_bottom, x:x+w]\n",
      "        roi_color_nose = img[y_eyes:y_eyes+face_bottom, x:x+w]\n",
      "        nose = nose_cascade.detectMultiScale(roi_gray_nose)\n",
      "        for (nx,ny,nw,nh) in nose:\n",
      "            cv2.rectangle(roi_color_nose, (nx,ny), (nx+nw, ny+nh), (0,0,255),2)\n",
      "\n",
      "        #mouths are below noses\n",
      "        y_nose_bottom = y_eyes + nose[0][1] + nose[0][3]\n",
      "        cv2.line(img, (0, y_nose_bottom), (x, y_nose_bottom), (0,0,255), thickness=1, lineType=8, shift=0)\n",
      "        roi_gray_mouth = gray[y_nose_bottom:y+h, x:x+w]\n",
      "        roi_color_mouth = img[y_nose_bottom:y+h, x:x+w]\n",
      "        smile = smile_cascade.detectMultiScale(roi_gray_mouth)\n",
      "        for (sx,sy,sw,sh) in smile:\n",
      "            cv2.rectangle(roi_color_mouth, (sx,sy), (sx+sw, sy+sh), (255,0,255),2)\n",
      "\n",
      "        mouth = mouth_cascade.detectMultiScale(roi_gray_mouth)\n",
      "        for (sx,sy,sw,sh) in mouth:\n",
      "            cv2.rectangle(roi_color_mouth, (sx,sy), (sx+sw, sy+sh), (255,255,255),2)\n",
      "\n",
      "    cv2.imshow('img',img)\n",
      "    cv2.waitKey(0)\n",
      "    cv2.destroyAllWindows()"
     ],
     "language": "python",
     "metadata": {},
     "outputs": [],
     "prompt_number": 9
    },
    {
     "cell_type": "code",
     "collapsed": false,
     "input": [
      "df = pd.read_csv('data/fer2013.csv')\n"
     ],
     "language": "python",
     "metadata": {},
     "outputs": [],
     "prompt_number": 10
    },
    {
     "cell_type": "code",
     "collapsed": false,
     "input": [
      "df.head()"
     ],
     "language": "python",
     "metadata": {},
     "outputs": [
      {
       "html": [
        "<div style=\"max-height:1000px;max-width:1500px;overflow:auto;\">\n",
        "<table border=\"1\" class=\"dataframe\">\n",
        "  <thead>\n",
        "    <tr style=\"text-align: right;\">\n",
        "      <th></th>\n",
        "      <th>emotion</th>\n",
        "      <th>pixels</th>\n",
        "      <th>Usage</th>\n",
        "    </tr>\n",
        "  </thead>\n",
        "  <tbody>\n",
        "    <tr>\n",
        "      <th>0</th>\n",
        "      <td> 0</td>\n",
        "      <td> 70 80 82 72 58 58 60 63 54 58 60 48 89 115 121...</td>\n",
        "      <td> Training</td>\n",
        "    </tr>\n",
        "    <tr>\n",
        "      <th>1</th>\n",
        "      <td> 0</td>\n",
        "      <td> 151 150 147 155 148 133 111 140 170 174 182 15...</td>\n",
        "      <td> Training</td>\n",
        "    </tr>\n",
        "    <tr>\n",
        "      <th>2</th>\n",
        "      <td> 2</td>\n",
        "      <td> 231 212 156 164 174 138 161 173 182 200 106 38...</td>\n",
        "      <td> Training</td>\n",
        "    </tr>\n",
        "    <tr>\n",
        "      <th>3</th>\n",
        "      <td> 4</td>\n",
        "      <td> 24 32 36 30 32 23 19 20 30 41 21 22 32 34 21 1...</td>\n",
        "      <td> Training</td>\n",
        "    </tr>\n",
        "    <tr>\n",
        "      <th>4</th>\n",
        "      <td> 6</td>\n",
        "      <td> 4 0 0 0 0 0 0 0 0 0 0 0 3 15 23 28 48 50 58 84...</td>\n",
        "      <td> Training</td>\n",
        "    </tr>\n",
        "  </tbody>\n",
        "</table>\n",
        "</div>"
       ],
       "metadata": {},
       "output_type": "pyout",
       "prompt_number": 11,
       "text": [
        "   emotion                                             pixels     Usage\n",
        "0        0  70 80 82 72 58 58 60 63 54 58 60 48 89 115 121...  Training\n",
        "1        0  151 150 147 155 148 133 111 140 170 174 182 15...  Training\n",
        "2        2  231 212 156 164 174 138 161 173 182 200 106 38...  Training\n",
        "3        4  24 32 36 30 32 23 19 20 30 41 21 22 32 34 21 1...  Training\n",
        "4        6  4 0 0 0 0 0 0 0 0 0 0 0 3 15 23 28 48 50 58 84...  Training"
       ]
      }
     ],
     "prompt_number": 11
    },
    {
     "cell_type": "code",
     "collapsed": false,
     "input": [
      "#these are the images.  convert them to array\n",
      "test = np.reshape(df.values[1][1].split(), (48,48)).astype(np.uint8)\n",
      "test\n"
     ],
     "language": "python",
     "metadata": {},
     "outputs": [
      {
       "metadata": {},
       "output_type": "pyout",
       "prompt_number": 23,
       "text": [
        "array([[151, 150, 147, ..., 129, 140, 120],\n",
        "       [151, 149, 149, ..., 122, 141, 137],\n",
        "       [151, 151, 156, ..., 109, 123, 146],\n",
        "       ..., \n",
        "       [188, 188, 121, ..., 185, 185, 186],\n",
        "       [188, 187, 196, ..., 186, 182, 187],\n",
        "       [186, 184, 185, ..., 193, 183, 184]], dtype=uint8)"
       ]
      }
     ],
     "prompt_number": 23
    },
    {
     "cell_type": "code",
     "collapsed": false,
     "input": [
      "cv2.imshow('roi_gray',test)\n",
      "cv2.waitKey(0)\n",
      "cv2.destroyAllWindows()"
     ],
     "language": "python",
     "metadata": {},
     "outputs": [],
     "prompt_number": 24
    },
    {
     "cell_type": "code",
     "collapsed": false,
     "input": [
      "\n",
      "    "
     ],
     "language": "python",
     "metadata": {},
     "outputs": [
      {
       "ename": "UnboundLocalError",
       "evalue": "local variable 'gray' referenced before assignment",
       "output_type": "pyerr",
       "traceback": [
        "\u001b[0;31m---------------------------------------------------------------------------\u001b[0m\n\u001b[0;31mUnboundLocalError\u001b[0m                         Traceback (most recent call last)",
        "\u001b[0;32m<ipython-input-46-3e0757eacd99>\u001b[0m in \u001b[0;36m<module>\u001b[0;34m()\u001b[0m\n\u001b[1;32m      1\u001b[0m \u001b[0;32mfor\u001b[0m \u001b[0mx\u001b[0m \u001b[0;32min\u001b[0m \u001b[0mrange\u001b[0m\u001b[0;34m(\u001b[0m\u001b[0;36m20\u001b[0m\u001b[0;34m)\u001b[0m\u001b[0;34m:\u001b[0m\u001b[0;34m\u001b[0m\u001b[0m\n\u001b[1;32m      2\u001b[0m     \u001b[0mimg\u001b[0m \u001b[0;34m=\u001b[0m \u001b[0mnp\u001b[0m\u001b[0;34m.\u001b[0m\u001b[0mreshape\u001b[0m\u001b[0;34m(\u001b[0m\u001b[0mdf\u001b[0m\u001b[0;34m.\u001b[0m\u001b[0mvalues\u001b[0m\u001b[0;34m[\u001b[0m\u001b[0mx\u001b[0m\u001b[0;34m]\u001b[0m\u001b[0;34m[\u001b[0m\u001b[0;36m1\u001b[0m\u001b[0;34m]\u001b[0m\u001b[0;34m.\u001b[0m\u001b[0msplit\u001b[0m\u001b[0;34m(\u001b[0m\u001b[0;34m)\u001b[0m\u001b[0;34m,\u001b[0m \u001b[0;34m(\u001b[0m\u001b[0;36m48\u001b[0m\u001b[0;34m,\u001b[0m\u001b[0;36m48\u001b[0m\u001b[0;34m)\u001b[0m\u001b[0;34m)\u001b[0m\u001b[0;34m.\u001b[0m\u001b[0mastype\u001b[0m\u001b[0;34m(\u001b[0m\u001b[0mnp\u001b[0m\u001b[0;34m.\u001b[0m\u001b[0muint8\u001b[0m\u001b[0;34m)\u001b[0m\u001b[0;34m\u001b[0m\u001b[0m\n\u001b[0;32m----> 3\u001b[0;31m     \u001b[0mLabelFaces\u001b[0m\u001b[0;34m(\u001b[0m\u001b[0mimg\u001b[0m\u001b[0;34m)\u001b[0m\u001b[0;34m\u001b[0m\u001b[0m\n\u001b[0m\u001b[1;32m      4\u001b[0m \u001b[0;34m\u001b[0m\u001b[0m\n",
        "\u001b[0;32m<ipython-input-44-e62b097f6c52>\u001b[0m in \u001b[0;36mLabelFaces\u001b[0;34m(img)\u001b[0m\n\u001b[1;32m     19\u001b[0m     \u001b[0;32mfor\u001b[0m \u001b[0;34m(\u001b[0m\u001b[0mx\u001b[0m\u001b[0;34m,\u001b[0m\u001b[0my\u001b[0m\u001b[0;34m,\u001b[0m\u001b[0mw\u001b[0m\u001b[0;34m,\u001b[0m\u001b[0mh\u001b[0m\u001b[0;34m)\u001b[0m \u001b[0;32min\u001b[0m \u001b[0mfaces\u001b[0m\u001b[0;34m:\u001b[0m\u001b[0;34m\u001b[0m\u001b[0m\n\u001b[1;32m     20\u001b[0m         \u001b[0mcv2\u001b[0m\u001b[0;34m.\u001b[0m\u001b[0mrectangle\u001b[0m\u001b[0;34m(\u001b[0m\u001b[0mimg\u001b[0m\u001b[0;34m,\u001b[0m\u001b[0;34m(\u001b[0m\u001b[0mx\u001b[0m\u001b[0;34m,\u001b[0m\u001b[0my\u001b[0m\u001b[0;34m)\u001b[0m\u001b[0;34m,\u001b[0m\u001b[0;34m(\u001b[0m\u001b[0mx\u001b[0m\u001b[0;34m+\u001b[0m\u001b[0mw\u001b[0m\u001b[0;34m,\u001b[0m\u001b[0my\u001b[0m\u001b[0;34m+\u001b[0m\u001b[0mh\u001b[0m\u001b[0;34m)\u001b[0m\u001b[0;34m,\u001b[0m\u001b[0;34m(\u001b[0m\u001b[0;36m255\u001b[0m\u001b[0;34m,\u001b[0m\u001b[0;36m0\u001b[0m\u001b[0;34m,\u001b[0m\u001b[0;36m0\u001b[0m\u001b[0;34m)\u001b[0m\u001b[0;34m,\u001b[0m\u001b[0;36m2\u001b[0m\u001b[0;34m)\u001b[0m\u001b[0;34m\u001b[0m\u001b[0m\n\u001b[0;32m---> 21\u001b[0;31m         \u001b[0mgray_faces_rois\u001b[0m\u001b[0;34m.\u001b[0m\u001b[0mappend\u001b[0m\u001b[0;34m(\u001b[0m\u001b[0mgray\u001b[0m\u001b[0;34m[\u001b[0m\u001b[0my\u001b[0m\u001b[0;34m:\u001b[0m\u001b[0my\u001b[0m\u001b[0;34m+\u001b[0m\u001b[0mh\u001b[0m\u001b[0;34m,\u001b[0m \u001b[0mx\u001b[0m\u001b[0;34m:\u001b[0m\u001b[0mx\u001b[0m\u001b[0;34m+\u001b[0m\u001b[0mw\u001b[0m\u001b[0;34m]\u001b[0m\u001b[0;34m)\u001b[0m\u001b[0;34m\u001b[0m\u001b[0m\n\u001b[0m\u001b[1;32m     22\u001b[0m         \u001b[0mcolor_faces_rois\u001b[0m\u001b[0;34m.\u001b[0m\u001b[0mappend\u001b[0m\u001b[0;34m(\u001b[0m\u001b[0mimg\u001b[0m\u001b[0;34m[\u001b[0m\u001b[0my\u001b[0m\u001b[0;34m:\u001b[0m\u001b[0my\u001b[0m\u001b[0;34m+\u001b[0m\u001b[0mh\u001b[0m\u001b[0;34m,\u001b[0m \u001b[0mx\u001b[0m\u001b[0;34m:\u001b[0m\u001b[0mx\u001b[0m\u001b[0;34m+\u001b[0m\u001b[0mw\u001b[0m\u001b[0;34m]\u001b[0m\u001b[0;34m)\u001b[0m\u001b[0;34m\u001b[0m\u001b[0m\n\u001b[1;32m     23\u001b[0m \u001b[0;34m\u001b[0m\u001b[0m\n",
        "\u001b[0;31mUnboundLocalError\u001b[0m: local variable 'gray' referenced before assignment"
       ]
      }
     ],
     "prompt_number": 46
    },
    {
     "cell_type": "code",
     "collapsed": false,
     "input": [],
     "language": "python",
     "metadata": {},
     "outputs": [
      {
       "metadata": {},
       "output_type": "pyout",
       "prompt_number": 29,
       "text": [
        "array([[149, 149, 149, ...,  32,  38,  34],\n",
        "       [149, 149, 149, ...,  34,  37,  37],\n",
        "       [150, 150, 149, ...,  35,  36,  39],\n",
        "       ..., \n",
        "       [ 60, 103, 106, ..., 166, 169, 168],\n",
        "       [ 59,  94, 103, ..., 166, 168, 168],\n",
        "       [ 59,  85,  92, ..., 167, 169, 168]], dtype=uint8)"
       ]
      }
     ],
     "prompt_number": 29
    },
    {
     "cell_type": "code",
     "collapsed": false,
     "input": [
      "def LabelFaces(img):\n",
      "    \"\"\"\n",
      "    TODO define label as color with a box\n",
      "    Labels the face in the color image and returns\n",
      "    the face region of insterest in grayscale and color\n",
      "    \n",
      "    Vars: \n",
      "        TODO document this\n",
      "    \"\"\"\n",
      "    \n",
      "    gray = cv2.cvtColor(img, cv2.COLOR_BGR2GRAY)\n",
      "    faces = face_cascade.detectMultiScale(img,)\n",
      "    gray_faces_rois = []\n",
      "    color_faces_rois = []\n",
      "    \n",
      "    for (x,y,w,h) in faces:\n",
      "        cv2.rectangle(img,(x,y),(x+w,y+h),(255,0,0),2)\n",
      "        gray_faces_rois.append(gray[y:y+h, x:x+w])\n",
      "        color_faces_rois.append(img[y:y+h, x:x+w])\n",
      "    \n",
      "    cv2.imshow('img',img)\n",
      "    cv2.waitKey(0)\n",
      "    cv2.destroyAllWindows()\n",
      "        \n",
      "    return gray_faces_rois, color_faces_rois\n",
      "\n",
      "def LabelEyes(img):\n",
      "    \"\"\"\n",
      "    TODO define label as color with a box\n",
      "    Labels the face in the color image and returns\n",
      "    the face region of insterest in grayscale and color\n",
      "    \n",
      "    Vars: \n",
      "        TODO document this\n",
      "    \"\"\"\n",
      "    eyes = eye_cascade.detectMultiScale(img)\n",
      "    for (ex,ey,ew,eh) in eyes:\n",
      "        cv2.rectangle(img,(ex,ey),(ex+ew,ey+eh),(0,255,0),2)\n",
      "\n",
      "    cv2.imshow('img',img)\n",
      "    cv2.waitKey(0)\n",
      "    cv2.destroyAllWindows()\n",
      "    \n",
      "    \"\"\"\n",
      "        eyes = eye_cascade.detectMultiScale(roi_gray)\n",
      "        for (ex,ey,ew,eh) in eyes:\n",
      "            cv2.rectangle(roi_color,(ex,ey),(ex+ew,ey+eh),(0,255,0),2)\n",
      "\n",
      "        #once you have the eyes you want to look for the nose below the eyes\n",
      "        #ynose = y*1.33\n",
      "        y_eyes = y + eyes[0][1]\n",
      "        face_bottom = h - eyes[0][1]\n",
      "        cv2.line(img, (0, y_eyes+face_bottom), (x, y_eyes+face_bottom), (0,0,255), thickness=1, lineType=8, shift=0)\n",
      "        roi_gray_nose = gray[y_eyes:y_eyes+face_bottom, x:x+w]\n",
      "        roi_color_nose = img[y_eyes:y_eyes+face_bottom, x:x+w]\n",
      "        nose = nose_cascade.detectMultiScale(roi_gray_nose)\n",
      "        for (nx,ny,nw,nh) in nose:\n",
      "            cv2.rectangle(roi_color_nose, (nx,ny), (nx+nw, ny+nh), (0,0,255),2)\n",
      "\n",
      "        #mouths are below noses\n",
      "        y_nose_bottom = y_eyes + nose[0][1] + nose[0][3]\n",
      "        cv2.line(img, (0, y_nose_bottom), (x, y_nose_bottom), (0,0,255), thickness=1, lineType=8, shift=0)\n",
      "        roi_gray_mouth = gray[y_nose_bottom:y+h, x:x+w]\n",
      "        roi_color_mouth = img[y_nose_bottom:y+h, x:x+w]\n",
      "        smile = smile_cascade.detectMultiScale(roi_gray_mouth)\n",
      "        for (sx,sy,sw,sh) in smile:\n",
      "            cv2.rectangle(roi_color_mouth, (sx,sy), (sx+sw, sy+sh), (255,0,255),2)\n",
      "\n",
      "        mouth = mouth_cascade.detectMultiScale(roi_gray_mouth)\n",
      "        for (sx,sy,sw,sh) in mouth:\n",
      "            cv2.rectangle(roi_color_mouth, (sx,sy), (sx+sw, sy+sh), (255,255,255),2)\n",
      "\n",
      "\"\"\""
     ],
     "language": "python",
     "metadata": {},
     "outputs": [],
     "prompt_number": 64
    },
    {
     "cell_type": "code",
     "collapsed": false,
     "input": [
      "for x in range(200):\n",
      "    img = np.reshape(df.values[x][1].split(), (48,48)).astype(np.uint8)\n",
      "    LabelEyes(img)"
     ],
     "language": "python",
     "metadata": {},
     "outputs": [],
     "prompt_number": 65
    },
    {
     "cell_type": "code",
     "collapsed": false,
     "input": [
      "path = '/Users/andrewjtimmons/Desktop/pics/randomSelfies/'\n",
      "dirListing = os.listdir(path)\n",
      "imgList = []\n",
      "for item in dirListing:\n",
      "  if \".jpg\" in item:\n",
      "    imgList.append(path+item)\n",
      "print imgList"
     ],
     "language": "python",
     "metadata": {},
     "outputs": [
      {
       "output_type": "stream",
       "stream": "stdout",
       "text": [
        "['/Users/andrewjtimmons/Desktop/pics/randomSelfies/10890505_381476195365067_972489328_n.jpg', '/Users/andrewjtimmons/Desktop/pics/randomSelfies/10919679_1604746023078492_266609072_n.jpg', '/Users/andrewjtimmons/Desktop/pics/randomSelfies/10932083_1543294142619116_1760867486_n (1).jpg', '/Users/andrewjtimmons/Desktop/pics/randomSelfies/10932083_1543294142619116_1760867486_n.jpg', '/Users/andrewjtimmons/Desktop/pics/randomSelfies/10932128_282976415160047_1123383741_n.jpg', '/Users/andrewjtimmons/Desktop/pics/randomSelfies/10932219_661914320583820_1682668351_n.jpg', '/Users/andrewjtimmons/Desktop/pics/randomSelfies/10932312_1602550026644348_2016642401_n.jpg', '/Users/andrewjtimmons/Desktop/pics/randomSelfies/10948747_384900101682578_951352202_n.jpg', '/Users/andrewjtimmons/Desktop/pics/randomSelfies/10948838_600260226772686_1887906209_n.jpg', '/Users/andrewjtimmons/Desktop/pics/randomSelfies/10950385_1389633838009882_152806002_n.jpg', '/Users/andrewjtimmons/Desktop/pics/randomSelfies/10950525_439058069593068_1734863698_n.jpg', '/Users/andrewjtimmons/Desktop/pics/randomSelfies/10952939_810698305645623_290034056_n.jpg', '/Users/andrewjtimmons/Desktop/pics/randomSelfies/924117_839793826080973_1537228145_n.jpg']\n"
       ]
      }
     ],
     "prompt_number": 71
    },
    {
     "cell_type": "code",
     "collapsed": false,
     "input": [
      "for x in imgList:\n",
      "    img = cv2.imread(x)\n",
      "    LabelFaces(img)"
     ],
     "language": "python",
     "metadata": {},
     "outputs": [
      {
       "output_type": "stream",
       "stream": "stdout",
       "text": [
        "1\n",
        "1\n",
        "1"
       ]
      },
      {
       "output_type": "stream",
       "stream": "stdout",
       "text": [
        "\n",
        "1\n",
        "1"
       ]
      },
      {
       "output_type": "stream",
       "stream": "stdout",
       "text": [
        "\n",
        "1\n",
        "1\n",
        "1"
       ]
      },
      {
       "output_type": "stream",
       "stream": "stdout",
       "text": [
        "\n",
        "1\n",
        "1\n",
        "1"
       ]
      },
      {
       "output_type": "stream",
       "stream": "stdout",
       "text": [
        "\n",
        "1\n",
        "1"
       ]
      }
     ]
    },
    {
     "cell_type": "code",
     "collapsed": false,
     "input": [],
     "language": "python",
     "metadata": {},
     "outputs": []
    }
   ],
   "metadata": {}
  }
 ]
}