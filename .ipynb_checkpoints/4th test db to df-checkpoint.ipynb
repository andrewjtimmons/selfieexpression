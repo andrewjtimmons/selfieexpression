{
 "metadata": {
  "name": "",
  "signature": "sha256:cf70059d2bf80b664153996b7c9009457d9925c1e67fe2ed46ad0d100f26b843"
 },
 "nbformat": 3,
 "nbformat_minor": 0,
 "worksheets": [
  {
   "cells": [
    {
     "cell_type": "code",
     "collapsed": false,
     "input": [
      "import numpy as np\n",
      "import pandas as pd\n",
      "import cv2\n",
      "from sklearn import datasets\n",
      "import os\n",
      "import sqlite3\n",
      "import pickle\n",
      "import logging\n",
      "import json\n",
      "\n",
      "from PIL import Image\n",
      "import urllib2\n",
      "import cStringIO\n",
      "\n",
      "def create_opencv_image_from_url(url, cv2_img_flag=0):\n",
      "    request = urllib2.urlopen(url)\n",
      "    img_array = np.asarray(bytearray(request.read()), dtype=np.uint8)\n",
      "    return cv2.imdecode(img_array, cv2_img_flag)\n"
     ],
     "language": "python",
     "metadata": {},
     "outputs": [],
     "prompt_number": 90
    },
    {
     "cell_type": "code",
     "collapsed": false,
     "input": [
      "conn = sqlite3.connect(\"face.db\")\n",
      "c = conn.cursor()\n"
     ],
     "language": "python",
     "metadata": {},
     "outputs": [],
     "prompt_number": 91
    },
    {
     "cell_type": "code",
     "collapsed": false,
     "input": [
      "df = pd.read_sql(\"SELECT * from faces\", conn)\n",
      "df"
     ],
     "language": "python",
     "metadata": {},
     "outputs": [
      {
       "html": [
        "<div style=\"max-height:1000px;max-width:1500px;overflow:auto;\">\n",
        "<table border=\"1\" class=\"dataframe\">\n",
        "  <thead>\n",
        "    <tr style=\"text-align: right;\">\n",
        "      <th></th>\n",
        "      <th>image_table_id</th>\n",
        "      <th>face_xywh</th>\n",
        "      <th>eyes_xywh_relative</th>\n",
        "      <th>eyes_xywh_absolute</th>\n",
        "      <th>mouth_xywh_relative</th>\n",
        "      <th>mouth_xywh_absolute</th>\n",
        "      <th>smile_xywh_relative</th>\n",
        "      <th>smile_xywh_absolute</th>\n",
        "    </tr>\n",
        "  </thead>\n",
        "  <tbody>\n",
        "  </tbody>\n",
        "</table>\n",
        "</div>"
       ],
       "metadata": {},
       "output_type": "pyout",
       "prompt_number": 92,
       "text": [
        "Empty DataFrame\n",
        "Columns: [image_table_id, face_xywh, eyes_xywh_relative, eyes_xywh_absolute, mouth_xywh_relative, mouth_xywh_absolute, smile_xywh_relative, smile_xywh_absolute]\n",
        "Index: []"
       ]
      }
     ],
     "prompt_number": 92
    },
    {
     "cell_type": "code",
     "collapsed": false,
     "input": [
      "imgURL = 'http://scontent-b.cdninstagram.com/hphotos-xaf1/t51.2885-15/e15/10953331_944843622214980_1821999614_n.jpg'\n",
      "img = create_opencv_image_from_url(imgURL, cv2_img_flag=1)\n",
      "a = json.loads(df.loc[0, 'eyes_xywh_absolute'])\n",
      "x1,x2,y1,y2 = a = json.loads(df.loc[0, 'mouth_xywh_absolute'])[0]\n",
      "\n",
      "cv2.rectangle(img, (x1,y1), (x2,y2), (255,0,0), thickness = 2)\n",
      "cv2.imshow('img',img)\n",
      "cv2.waitKey(0)\n",
      "cv2.destroyAllWindows()"
     ],
     "language": "python",
     "metadata": {},
     "outputs": [],
     "prompt_number": 89
    },
    {
     "cell_type": "code",
     "collapsed": true,
     "input": [
      "#get all image ids\n",
      "already_processed = c.execute(\"SELECT instagram_id from images\").fetchall()\n"
     ],
     "language": "python",
     "metadata": {},
     "outputs": [],
     "prompt_number": 93
    },
    {
     "cell_type": "code",
     "collapsed": false,
     "input": [
      "[str(x[0]) for x in already_processed]\n"
     ],
     "language": "python",
     "metadata": {},
     "outputs": [
      {
       "metadata": {},
       "output_type": "pyout",
       "prompt_number": 95,
       "text": [
        "[]"
       ]
      }
     ],
     "prompt_number": 95
    },
    {
     "cell_type": "code",
     "collapsed": false,
     "input": [
      "df\n"
     ],
     "language": "python",
     "metadata": {},
     "outputs": [
      {
       "html": [
        "<div style=\"max-height:1000px;max-width:1500px;overflow:auto;\">\n",
        "<table border=\"1\" class=\"dataframe\">\n",
        "  <thead>\n",
        "    <tr style=\"text-align: right;\">\n",
        "      <th></th>\n",
        "      <th>image_table_id</th>\n",
        "      <th>face_xywh</th>\n",
        "      <th>eyes_xywh_relative</th>\n",
        "      <th>eyes_xywh_absolute</th>\n",
        "      <th>mouth_xywh_relative</th>\n",
        "      <th>mouth_xywh_absolute</th>\n",
        "      <th>smile_xywh_relative</th>\n",
        "      <th>smile_xywh_absolute</th>\n",
        "    </tr>\n",
        "  </thead>\n",
        "  <tbody>\n",
        "  </tbody>\n",
        "</table>\n",
        "</div>"
       ],
       "metadata": {},
       "output_type": "pyout",
       "prompt_number": 96,
       "text": [
        "Empty DataFrame\n",
        "Columns: [image_table_id, face_xywh, eyes_xywh_relative, eyes_xywh_absolute, mouth_xywh_relative, mouth_xywh_absolute, smile_xywh_relative, smile_xywh_absolute]\n",
        "Index: []"
       ]
      }
     ],
     "prompt_number": 96
    },
    {
     "cell_type": "code",
     "collapsed": false,
     "input": [],
     "language": "python",
     "metadata": {},
     "outputs": [],
     "prompt_number": 30
    },
    {
     "cell_type": "code",
     "collapsed": false,
     "input": [
      "\n"
     ],
     "language": "python",
     "metadata": {},
     "outputs": [
      {
       "metadata": {},
       "output_type": "pyout",
       "prompt_number": 31,
       "text": [
        "<sqlite3.Connection at 0x10993cbf8>"
       ]
      }
     ],
     "prompt_number": 31
    },
    {
     "cell_type": "code",
     "collapsed": false,
     "input": [],
     "language": "python",
     "metadata": {},
     "outputs": []
    }
   ],
   "metadata": {}
  }
 ]
}