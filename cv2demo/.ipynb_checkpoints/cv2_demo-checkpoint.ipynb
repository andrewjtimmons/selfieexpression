{
 "metadata": {
  "name": "",
  "signature": "sha256:a0d6d73bc32b2c035683dcc6ec991cdf09d184dd574f01c2e20e737d62a8032e"
 },
 "nbformat": 3,
 "nbformat_minor": 0,
 "worksheets": [
  {
   "cells": [
    {
     "cell_type": "code",
     "collapsed": false,
     "input": [
      "#adapted from http://docs.opencv.org/trunk/doc/py_tutorials/py_objdetect/py_face_detection/py_face_detection.html#face-detection\n",
      "import numpy as np\n",
      "import cv2\n",
      "from matplotlib import pyplot as plt\n",
      "%matplotlib inline\n",
      "\n",
      "#change to your haar cascade directory\n",
      "face_cascade = cv2.CascadeClassifier('/Users/andrewjtimmons/anaconda/share/OpenCV/haarcascades/haarcascade_frontalface_default.xml')\n",
      "eye_cascade = cv2.CascadeClassifier('/Users/andrewjtimmons/anaconda/share/OpenCV/haarcascades/haarcascade_eye.xml')\n",
      "mouth_cascade = cv2.CascadeClassifier('/Users/andrewjtimmons/anaconda/share/OpenCV/haarcascades/haarcascade_mcs_mouth.xml')\n",
      "nose_cascade = cv2.CascadeClassifier('/Users/andrewjtimmons/anaconda/share/OpenCV/haarcascades/haarcascade_mcs_nose.xml')\n",
      "smile_cascade = cv2.CascadeClassifier('/Users/andrewjtimmons/anaconda/share/OpenCV/haarcascades/haarcascade_smile.xml')\n"
     ],
     "language": "python",
     "metadata": {},
     "outputs": [],
     "prompt_number": 21
    },
    {
     "cell_type": "code",
     "collapsed": false,
     "input": [
      "#Load the image\n",
      "img = cv2.imread(\"skull.jpg\")"
     ],
     "language": "python",
     "metadata": {},
     "outputs": [],
     "prompt_number": 28
    },
    {
     "cell_type": "code",
     "collapsed": false,
     "input": [
      "#convert to grayscale\n",
      "gray = cv2.cvtColor(img, cv2.COLOR_BGR2GRAY)\n",
      "print gray"
     ],
     "language": "python",
     "metadata": {},
     "outputs": [
      {
       "output_type": "stream",
       "stream": "stdout",
       "text": [
        "[[159 158 157 ..., 191 192 192]\n",
        " [161 160 158 ..., 192 193 194]\n",
        " [158 157 156 ..., 192 193 194]\n",
        " ..., \n",
        " [110 102 107 ...,  91  92  95]\n",
        " [111 104 110 ...,  93  95  98]\n",
        " [114 108 114 ...,  95  98  99]]\n"
       ]
      }
     ],
     "prompt_number": 29
    },
    {
     "cell_type": "markdown",
     "metadata": {},
     "source": [
      "###Faces"
     ]
    },
    {
     "cell_type": "code",
     "collapsed": false,
     "input": [
      "#show faces\n",
      "\n",
      "# repasting these so you can draw on a fresh image and play\n",
      "# with scaleFactor and minNeighbors\n",
      "img = cv2.imread(\"skull.jpg\")\n",
      "gray = cv2.cvtColor(img, cv2.COLOR_BGR2GRAY)\n",
      "\n",
      "#settings for function detection\n",
      "scaleFactor = 1.05\n",
      "minNeighbors = 3\n",
      "\n",
      "#detects the faces\n",
      "faces = face_cascade.detectMultiScale(img, scaleFactor = scaleFactor, minNeighbors = minNeighbors)\n",
      "\n",
      "#draws boxes around possible faces\n",
      "for (x,y,w,h) in faces:\n",
      "    cv2.rectangle(img,(x,y),(x+w,y+h),(255,0,0),2)\n",
      "\n",
      "#shows the image\n",
      "cv2.imshow('img',img)\n",
      "cv2.waitKey(0)\n",
      "cv2.destroyAllWindows()"
     ],
     "language": "python",
     "metadata": {},
     "outputs": [],
     "prompt_number": 35
    },
    {
     "cell_type": "markdown",
     "metadata": {},
     "source": [
      "###Eyes"
     ]
    },
    {
     "cell_type": "code",
     "collapsed": false,
     "input": [
      "#add in eyes\n",
      "\n",
      "# repasting these so you can draw on a fresh image and play\n",
      "# with scaleFactor and minNeighbors\n",
      "img = cv2.imread(\"skull.jpg\")\n",
      "gray = cv2.cvtColor(img, cv2.COLOR_BGR2GRAY)\n",
      "\n",
      "scaleFactor = 1.05\n",
      "minNeighbors = 3\n",
      "\n",
      "faces = face_cascade.detectMultiScale(img, scaleFactor = scaleFactor, minNeighbors = minNeighbors)\n",
      "\n",
      "for (x,y,w,h) in faces:\n",
      "    cv2.rectangle(img,(x,y),(x+w,y+h),(255,0,0),2)\n",
      "    roi_gray = gray[y:y+h, x:x+w]\n",
      "    roi_color = img[y:y+h, x:x+w]\n",
      "    eyes = eye_cascade.detectMultiScale(roi_gray, scaleFactor = scaleFactor, minNeighbors = minNeighbors)\n",
      "    for (ex,ey,ew,eh) in eyes:\n",
      "        cv2.rectangle(roi_color,(ex,ey),(ex+ew,ey+eh),(0,255,0),2)\n",
      "\n",
      "        \n",
      "cv2.imshow('img',img)\n",
      "cv2.waitKey(0)\n",
      "cv2.destroyAllWindows()"
     ],
     "language": "python",
     "metadata": {},
     "outputs": [],
     "prompt_number": 34
    },
    {
     "cell_type": "markdown",
     "metadata": {},
     "source": [
      "###Mouths"
     ]
    },
    {
     "cell_type": "code",
     "collapsed": false,
     "input": [
      "#add mouths and eyes\n",
      "\n",
      "# repasting these so you can draw on a fresh image and play\n",
      "# with scaleFactor and minNeighbors\n",
      "img = cv2.imread(\"skull.jpg\")\n",
      "gray = cv2.cvtColor(img, cv2.COLOR_BGR2GRAY)\n",
      "\n",
      "scaleFactor = 1.05\n",
      "minNeighbors = 3\n",
      "faces = face_cascade.detectMultiScale(img, scaleFactor = scaleFactor, minNeighbors = minNeighbors)\n",
      "\n",
      "for (x,y,w,h) in faces:\n",
      "    cv2.rectangle(img,(x,y),(x+w,y+h),(255,0,0),2)\n",
      "    roi_gray = gray[y:y+h, x:x+w]\n",
      "    roi_color = img[y:y+h, x:x+w]\n",
      "    eyes = eye_cascade.detectMultiScale(roi_gray, scaleFactor = scaleFactor, minNeighbors = minNeighbors)\n",
      "    for (ex,ey,ew,eh) in eyes:\n",
      "        cv2.rectangle(roi_color,(ex,ey),(ex+ew,ey+eh),(0,255,0),2)\n",
      "\n",
      "    mouth = mouth_cascade.detectMultiScale(roi_gray, scaleFactor = scaleFactor, minNeighbors = minNeighbors)\n",
      "    for (sx,sy,sw,sh) in mouth:\n",
      "        cv2.rectangle(roi_color, (sx,sy), (sx+sw, sy+sh), (255,255,255),2)\n",
      "        \n",
      "    smile = smile_cascade.detectMultiScale(roi_gray, scaleFactor = scaleFactor, minNeighbors = minNeighbors)\n",
      "    for (sx,sy,sw,sh) in smile:\n",
      "        cv2.rectangle(roi_color, (sx,sy), (sx+sw, sy+sh), (255,0,255),2)\n",
      "     \n",
      "        \n",
      "cv2.imshow('img',img)\n",
      "cv2.waitKey(0)\n",
      "cv2.destroyAllWindows()"
     ],
     "language": "python",
     "metadata": {},
     "outputs": [],
     "prompt_number": 33
    },
    {
     "cell_type": "code",
     "collapsed": false,
     "input": [
      "###Cake"
     ],
     "language": "python",
     "metadata": {},
     "outputs": [],
     "prompt_number": 7
    },
    {
     "cell_type": "code",
     "collapsed": false,
     "input": [
      "#That seems good out of the box.  What happens if there are no faces?\n",
      "\n",
      "# repasting these so you can draw on a fresh image and play\n",
      "# with scaleFactor and minNeighbors\n",
      "img = cv2.imread(\"dessert.jpg\")\n",
      "gray = cv2.cvtColor(img, cv2.COLOR_BGR2GRAY)\n",
      "\n",
      "scaleFactor = 1.05\n",
      "minNeighbors = 3\n",
      "faces = face_cascade.detectMultiScale(img, scaleFactor = scaleFactor, minNeighbors = minNeighbors)\n",
      "\n",
      "for (x,y,w,h) in faces:\n",
      "    cv2.rectangle(img,(x,y),(x+w,y+h),(255,0,0),2)\n",
      "    roi_gray = gray[y:y+h, x:x+w]\n",
      "    roi_color = img[y:y+h, x:x+w]\n",
      "    eyes = eye_cascade.detectMultiScale(roi_gray, scaleFactor = scaleFactor, minNeighbors = minNeighbors)\n",
      "    for (ex,ey,ew,eh) in eyes:\n",
      "        cv2.rectangle(roi_color,(ex,ey),(ex+ew,ey+eh),(0,255,0),2)\n",
      "\n",
      "    mouth = mouth_cascade.detectMultiScale(roi_gray, scaleFactor = scaleFactor, minNeighbors = minNeighbors)\n",
      "    for (sx,sy,sw,sh) in mouth:\n",
      "        cv2.rectangle(roi_color, (sx,sy), (sx+sw, sy+sh), (255,255,255),2)\n",
      "        \n",
      "    smile = smile_cascade.detectMultiScale(roi_gray, scaleFactor = scaleFactor, minNeighbors = minNeighbors)\n",
      "    for (sx,sy,sw,sh) in smile:\n",
      "        cv2.rectangle(roi_color, (sx,sy), (sx+sw, sy+sh), (255,0,255),2)\n",
      "     \n",
      "        \n",
      "cv2.imshow('img',img)\n",
      "cv2.waitKey(0)\n",
      "cv2.destroyAllWindows()"
     ],
     "language": "python",
     "metadata": {},
     "outputs": [],
     "prompt_number": 32
    },
    {
     "cell_type": "code",
     "collapsed": false,
     "input": [],
     "language": "python",
     "metadata": {},
     "outputs": [],
     "prompt_number": 32
    },
    {
     "cell_type": "code",
     "collapsed": false,
     "input": [],
     "language": "python",
     "metadata": {},
     "outputs": []
    }
   ],
   "metadata": {}
  }
 ]
}