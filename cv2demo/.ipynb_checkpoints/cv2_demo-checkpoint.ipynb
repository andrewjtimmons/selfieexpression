{
 "metadata": {
  "name": "",
  "signature": "sha256:2c13b33cba369bec5d0f252a6492ecbc0d18fa9c59f6e31e468e4142d0b46a5e"
 },
 "nbformat": 3,
 "nbformat_minor": 0,
 "worksheets": [
  {
   "cells": [
    {
     "cell_type": "code",
     "collapsed": false,
     "input": [
      "#adapted from http://docs.opencv.org/trunk/doc/py_tutorials/py_objdetect/py_face_detection/py_face_detection.html#face-detection\n",
      "import numpy as np\n",
      "import cv2\n",
      "from matplotlib import pyplot as plt\n",
      "%matplotlib inline\n",
      "\n",
      "\n",
      "#change to your haar cascade directory\n",
      "face_cascade = cv2.CascadeClassifier('/Users/andrewjtimmons/anaconda/share/OpenCV/haarcascades/haarcascade_frontalface_default.xml')\n",
      "eye_cascade = cv2.CascadeClassifier('/Users/andrewjtimmons/anaconda/share/OpenCV/haarcascades/haarcascade_eye.xml')\n",
      "mouth_cascade = cv2.CascadeClassifier('/Users/andrewjtimmons/anaconda/share/OpenCV/haarcascades/haarcascade_mcs_mouth.xml')\n",
      "nose_cascade = cv2.CascadeClassifier('/Users/andrewjtimmons/anaconda/share/OpenCV/haarcascades/haarcascade_mcs_nose.xml')\n",
      "smile_cascade = cv2.CascadeClassifier('/Users/andrewjtimmons/anaconda/share/OpenCV/haarcascades/haarcascade_smile.xml')\n"
     ],
     "language": "python",
     "metadata": {},
     "outputs": [],
     "prompt_number": 21
    },
    {
     "cell_type": "code",
     "collapsed": false,
     "input": [
      "#Load the image\n",
      "img = cv2.imread(\"skull.jpg\")\n",
      "print img\n",
      "from matplotlib import pyplot as plt\n",
      "plt.imshow(img)"
     ],
     "language": "python",
     "metadata": {},
     "outputs": [
      {
       "output_type": "stream",
       "stream": "stdout",
       "text": [
        "[[[140 155 174]\n",
        "  [139 154 173]\n",
        "  [138 153 172]\n",
        "  ..., \n",
        "  [157 188 209]\n",
        "  [158 189 212]\n",
        "  [158 189 212]]\n",
        "\n",
        " [[142 157 176]\n",
        "  [141 156 175]\n",
        "  [139 154 173]\n",
        "  ..., \n",
        "  [158 189 210]\n",
        "  [159 190 213]\n",
        "  [160 191 214]]\n",
        "\n",
        " [[139 154 173]\n",
        "  [138 153 172]\n",
        "  [137 152 171]\n",
        "  ..., \n",
        "  [158 189 210]\n",
        "  [159 190 213]\n",
        "  [160 191 214]]\n",
        "\n",
        " ..., \n",
        " [[101 107 120]\n",
        "  [ 93  99 112]\n",
        "  [ 98 104 117]\n",
        "  ..., \n",
        "  [ 82  90  97]\n",
        "  [ 83  91  98]\n",
        "  [ 86  94 101]]\n",
        "\n",
        " [[102 108 121]\n",
        "  [ 95 101 114]\n",
        "  [101 107 120]\n",
        "  ..., \n",
        "  [ 84  93  97]\n",
        "  [ 86  95  99]\n",
        "  [ 89  98 102]]\n",
        "\n",
        " [[105 111 124]\n",
        "  [ 99 105 118]\n",
        "  [105 111 124]\n",
        "  ..., \n",
        "  [ 86  95  99]\n",
        "  [ 89  98 102]\n",
        "  [ 90  99 103]]]\n"
       ]
      },
      {
       "metadata": {},
       "output_type": "pyout",
       "prompt_number": 24,
       "text": [
        "<matplotlib.image.AxesImage at 0x10e4a48d0>"
       ]
      }
     ],
     "prompt_number": 24
    },
    {
     "cell_type": "code",
     "collapsed": false,
     "input": [
      "#convert to grayscale\n",
      "gray = cv2.cvtColor(img, cv2.COLOR_BGR2GRAY)\n",
      "print gray"
     ],
     "language": "python",
     "metadata": {},
     "outputs": [
      {
       "output_type": "stream",
       "stream": "stdout",
       "text": [
        "[[159 158 157 ..., 191 192 192]\n",
        " [161 160 158 ..., 192 193 194]\n",
        " [158 157 156 ..., 192 193 194]\n",
        " ..., \n",
        " [110 102 107 ...,  91  92  95]\n",
        " [111 104 110 ...,  93  95  98]\n",
        " [114 108 114 ...,  95  98  99]]\n"
       ]
      }
     ],
     "prompt_number": 3
    },
    {
     "cell_type": "markdown",
     "metadata": {},
     "source": [
      "###Faces"
     ]
    },
    {
     "cell_type": "code",
     "collapsed": false,
     "input": [
      "#show faces\n",
      "\n",
      "# repasting these so you can draw on a fresh image and play\n",
      "# with scaleFactor and minNeighbors\n",
      "img = cv2.imread(\"skull.jpg\")\n",
      "gray = cv2.cvtColor(img, cv2.COLOR_BGR2GRAY)\n",
      "\n",
      "#settings for function detection\n",
      "scaleFactor = 1.05\n",
      "minNeighbors = 3\n",
      "\n",
      "#detects the faces\n",
      "faces = face_cascade.detectMultiScale(img, scaleFactor = scaleFactor, minNeighbors = minNeighbors)\n",
      "\n",
      "#draws boxes around possible faces\n",
      "for (x,y,w,h) in faces:\n",
      "    cv2.rectangle(img,(x,y),(x+w,y+h),(255,0,0),2)\n",
      "\n",
      "#shows the image\n",
      "cv2.imshow('img',img)\n",
      "cv2.waitKey(0)\n",
      "cv2.destroyAllWindows()\n",
      "    \n"
     ],
     "language": "python",
     "metadata": {},
     "outputs": [],
     "prompt_number": 15
    },
    {
     "cell_type": "markdown",
     "metadata": {},
     "source": [
      "###Eyes"
     ]
    },
    {
     "cell_type": "code",
     "collapsed": false,
     "input": [
      "#add in eyes\n",
      "\n",
      "# repasting these so you can draw on a fresh image and play\n",
      "# with scaleFactor and minNeighbors\n",
      "img = cv2.imread(\"skull.jpg\")\n",
      "gray = cv2.cvtColor(img, cv2.COLOR_BGR2GRAY)\n",
      "\n",
      "scaleFactor = 1.05\n",
      "minNeighbors = 5\n",
      "\n",
      "faces = face_cascade.detectMultiScale(img, scaleFactor = scaleFactor, minNeighbors = minNeighbors)\n",
      "\n",
      "for (x,y,w,h) in faces:\n",
      "    cv2.rectangle(img,(x,y),(x+w,y+h),(255,0,0),2)\n",
      "    roi_gray = gray[y:y+h, x:x+w]\n",
      "    roi_color = img[y:y+h, x:x+w]\n",
      "    eyes = eye_cascade.detectMultiScale(roi_gray, scaleFactor = scaleFactor, minNeighbors = minNeighbors)\n",
      "    for (ex,ey,ew,eh) in eyes:\n",
      "        cv2.rectangle(roi_color,(ex,ey),(ex+ew,ey+eh),(0,255,0),2)\n",
      "\n",
      "        \n",
      "cv2.imshow('img',img)\n",
      "cv2.waitKey(0)\n",
      "cv2.destroyAllWindows()"
     ],
     "language": "python",
     "metadata": {},
     "outputs": [],
     "prompt_number": 16
    },
    {
     "cell_type": "markdown",
     "metadata": {},
     "source": [
      "###Mouths"
     ]
    },
    {
     "cell_type": "code",
     "collapsed": false,
     "input": [
      "#add mouths and eyes\n",
      "\n",
      "# repasting these so you can draw on a fresh image and play\n",
      "# with scaleFactor and minNeighbors\n",
      "img = cv2.imread(\"skull.jpg\")\n",
      "gray = cv2.cvtColor(img, cv2.COLOR_BGR2GRAY)\n",
      "\n",
      "scaleFactor = 1.05\n",
      "minNeighbors = 5\n",
      "faces = face_cascade.detectMultiScale(img, scaleFactor = scaleFactor, minNeighbors = minNeighbors)\n",
      "\n",
      "for (x,y,w,h) in faces:\n",
      "    cv2.rectangle(img,(x,y),(x+w,y+h),(255,0,0),2)\n",
      "    roi_gray = gray[y:y+h, x:x+w]\n",
      "    roi_color = img[y:y+h, x:x+w]\n",
      "    eyes = eye_cascade.detectMultiScale(roi_gray, scaleFactor = scaleFactor, minNeighbors = minNeighbors)\n",
      "    for (ex,ey,ew,eh) in eyes:\n",
      "        cv2.rectangle(roi_color,(ex,ey),(ex+ew,ey+eh),(0,255,0),2)\n",
      "\n",
      "    mouth = mouth_cascade.detectMultiScale(roi_gray, scaleFactor = scaleFactor, minNeighbors = minNeighbors)\n",
      "    for (sx,sy,sw,sh) in mouth:\n",
      "        cv2.rectangle(roi_color, (sx,sy), (sx+sw, sy+sh), (255,255,255),2)\n",
      "        \n",
      "    smile = smile_cascade.detectMultiScale(roi_gray, scaleFactor = scaleFactor, minNeighbors = minNeighbors)\n",
      "    for (sx,sy,sw,sh) in smile:\n",
      "        cv2.rectangle(roi_color, (sx,sy), (sx+sw, sy+sh), (255,0,255),2)\n",
      "     \n",
      "        \n",
      "cv2.imshow('img',img)\n",
      "cv2.waitKey(0)\n",
      "cv2.destroyAllWindows()"
     ],
     "language": "python",
     "metadata": {},
     "outputs": [],
     "prompt_number": 17
    },
    {
     "cell_type": "code",
     "collapsed": false,
     "input": [
      "###Cake"
     ],
     "language": "python",
     "metadata": {},
     "outputs": [],
     "prompt_number": 7
    },
    {
     "cell_type": "code",
     "collapsed": false,
     "input": [
      "#That seems good out of the box.  What happens if there are no faces?\n",
      "\n",
      "# repasting these so you can draw on a fresh image and play\n",
      "# with scaleFactor and minNeighbors\n",
      "img = cv2.imread(\"dessert.jpg\")\n",
      "gray = cv2.cvtColor(img, cv2.COLOR_BGR2GRAY)\n",
      "\n",
      "scaleFactor = 1.05\n",
      "minNeighbors = 6\n",
      "faces = face_cascade.detectMultiScale(img, scaleFactor = scaleFactor, minNeighbors = minNeighbors)\n",
      "\n",
      "for (x,y,w,h) in faces:\n",
      "    cv2.rectangle(img,(x,y),(x+w,y+h),(255,0,0),2)\n",
      "    roi_gray = gray[y:y+h, x:x+w]\n",
      "    roi_color = img[y:y+h, x:x+w]\n",
      "    eyes = eye_cascade.detectMultiScale(roi_gray, scaleFactor = scaleFactor, minNeighbors = minNeighbors)\n",
      "    for (ex,ey,ew,eh) in eyes:\n",
      "        cv2.rectangle(roi_color,(ex,ey),(ex+ew,ey+eh),(0,255,0),2)\n",
      "\n",
      "    mouth = mouth_cascade.detectMultiScale(roi_gray, scaleFactor = scaleFactor, minNeighbors = minNeighbors)\n",
      "    for (sx,sy,sw,sh) in mouth:\n",
      "        cv2.rectangle(roi_color, (sx,sy), (sx+sw, sy+sh), (255,255,255),2)\n",
      "        \n",
      "    smile = smile_cascade.detectMultiScale(roi_gray, scaleFactor = scaleFactor, minNeighbors = minNeighbors)\n",
      "    for (sx,sy,sw,sh) in smile:\n",
      "        cv2.rectangle(roi_color, (sx,sy), (sx+sw, sy+sh), (255,0,255),2)\n",
      "     \n",
      "        \n",
      "cv2.imshow('img',img)\n",
      "cv2.waitKey(0)\n",
      "cv2.destroyAllWindows()"
     ],
     "language": "python",
     "metadata": {},
     "outputs": [],
     "prompt_number": 9
    },
    {
     "cell_type": "code",
     "collapsed": false,
     "input": [],
     "language": "python",
     "metadata": {},
     "outputs": [],
     "prompt_number": 8
    },
    {
     "cell_type": "code",
     "collapsed": false,
     "input": [],
     "language": "python",
     "metadata": {},
     "outputs": []
    }
   ],
   "metadata": {}
  }
 ]
}