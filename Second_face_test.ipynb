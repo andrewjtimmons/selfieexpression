{
 "metadata": {
  "name": "",
  "signature": "sha256:3a498c8038044e645be2b7ab31bf45a8a854de21d6335046ad56355720562f7b"
 },
 "nbformat": 3,
 "nbformat_minor": 0,
 "worksheets": [
  {
   "cells": [
    {
     "cell_type": "code",
     "collapsed": false,
     "input": [
      "import numpy as np\n",
      "import pandas as pd\n",
      "import cv2\n",
      "from sklearn import datasets\n",
      "import os\n",
      "\n",
      "from PIL import Image\n",
      "import urllib2\n",
      "import cStringIO\n",
      "\n",
      "\n",
      "face_cascade = cv2.CascadeClassifier('/Users/andrewjtimmons/anaconda/share/OpenCV/haarcascades/haarcascade_frontalface_default.xml')\n",
      "eye_cascade = cv2.CascadeClassifier('/Users/andrewjtimmons/anaconda/share/OpenCV/haarcascades/haarcascade_eye.xml')\n",
      "mouth_cascade = cv2.CascadeClassifier('/Users/andrewjtimmons/anaconda/share/OpenCV/haarcascades/haarcascade_mcs_mouth.xml')\n",
      "nose_cascade = cv2.CascadeClassifier('/Users/andrewjtimmons/anaconda/share/OpenCV/haarcascades/haarcascade_mcs_nose.xml')\n",
      "smile_cascade = cv2.CascadeClassifier('/Users/andrewjtimmons/anaconda/share/OpenCV/haarcascades/haarcascade_smile.xml')\n",
      "\n",
      "def create_opencv_image_from_cStringIO(img_stream, cv2_img_flag=0):\n",
      "    img_stream.seek(0)\n",
      "    img_array = np.asarray(bytearray(img_stream.read()), dtype=np.uint8)\n",
      "    return cv2.imdecode(img_array, cv2_img_flag)\n",
      "\n",
      "def create_opencv_image_from_url(url, cv2_img_flag=1):\n",
      "    request = urllib2.urlopen(url)\n",
      "    img_array = np.asarray(bytearray(request.read()), dtype=np.uint8)\n",
      "    return cv2.imdecode(img_array, cv2_img_flag)\n",
      "\n",
      "imgURL = 'http://scontent-b.cdninstagram.com/hphotos-xfa1/t51.2885-15/10864805_880408875336991_181445591_n.jpg'\n",
      "img = create_opencv_image_from_url(imgURL, cv2_img_flag=1)\n",
      "\n",
      "cv2.imshow('img',img)\n",
      "cv2.waitKey(0)\n",
      "cv2.destroyAllWindows()\n",
      "\n"
     ],
     "language": "python",
     "metadata": {},
     "outputs": [],
     "prompt_number": 30
    },
    {
     "cell_type": "code",
     "collapsed": false,
     "input": [
      "def create_opencv_image_from_cStringIO(img_stream, cv2_img_flag=0):\n",
      "    img_stream.seek(0)\n",
      "    img_array = np.asarray(bytearray(img_stream.read()), dtype=np.uint8)\n",
      "    return cv2.imdecode(img_array, cv2_img_flag)\n",
      "\n",
      "def create_opencv_image_from_url(url, cv2_img_flag=0):\n",
      "    request = urllib2.urlopen(url)\n",
      "    img_array = np.asarray(bytearray(request.read()), dtype=np.uint8)\n",
      "    return cv2.imdecode(img_array, CV_LOAD_IMAGE_COLOR = True)\n",
      "\n",
      "#imgURL = 'http://scontent-b.cdninstagram.com/hphotos-xfa1/t51.2885-15/10864805_880408875336991_181445591_n.jpg'\n",
      "imgURL =  'http://scontent-b.cdninstagram.com/hphotos-xaf1/t51.2885-15/10808802_1541192982795799_153155160_n.jpg'\n",
      "\n",
      "img = create_opencv_image_from_url(imgURL, cv2_img_flag=0)\n",
      "\n",
      "#cv2.imshow('img',img)\n",
      "#cv2.waitKey(0)\n",
      "#cv2.destroyAllWindows()\n",
      "\n"
     ],
     "language": "python",
     "metadata": {},
     "outputs": [
      {
       "ename": "TypeError",
       "evalue": "Required argument 'flags' (pos 2) not found",
       "output_type": "pyerr",
       "traceback": [
        "\u001b[0;31m---------------------------------------------------------------------------\u001b[0m\n\u001b[0;31mTypeError\u001b[0m                                 Traceback (most recent call last)",
        "\u001b[0;32m<ipython-input-38-26cb7e684d6d>\u001b[0m in \u001b[0;36m<module>\u001b[0;34m()\u001b[0m\n\u001b[1;32m     12\u001b[0m \u001b[0mimgURL\u001b[0m \u001b[0;34m=\u001b[0m  \u001b[0;34m'http://scontent-b.cdninstagram.com/hphotos-xaf1/t51.2885-15/10808802_1541192982795799_153155160_n.jpg'\u001b[0m\u001b[0;34m\u001b[0m\u001b[0m\n\u001b[1;32m     13\u001b[0m \u001b[0;34m\u001b[0m\u001b[0m\n\u001b[0;32m---> 14\u001b[0;31m \u001b[0mimg\u001b[0m \u001b[0;34m=\u001b[0m \u001b[0mcreate_opencv_image_from_url\u001b[0m\u001b[0;34m(\u001b[0m\u001b[0mimgURL\u001b[0m\u001b[0;34m,\u001b[0m \u001b[0mcv2_img_flag\u001b[0m\u001b[0;34m=\u001b[0m\u001b[0;36m0\u001b[0m\u001b[0;34m)\u001b[0m\u001b[0;34m\u001b[0m\u001b[0m\n\u001b[0m\u001b[1;32m     15\u001b[0m \u001b[0;34m\u001b[0m\u001b[0m\n\u001b[1;32m     16\u001b[0m \u001b[0;31m#cv2.imshow('img',img)\u001b[0m\u001b[0;34m\u001b[0m\u001b[0;34m\u001b[0m\u001b[0m\n",
        "\u001b[0;32m<ipython-input-38-26cb7e684d6d>\u001b[0m in \u001b[0;36mcreate_opencv_image_from_url\u001b[0;34m(url, cv2_img_flag)\u001b[0m\n\u001b[1;32m      7\u001b[0m     \u001b[0mrequest\u001b[0m \u001b[0;34m=\u001b[0m \u001b[0murllib2\u001b[0m\u001b[0;34m.\u001b[0m\u001b[0murlopen\u001b[0m\u001b[0;34m(\u001b[0m\u001b[0murl\u001b[0m\u001b[0;34m)\u001b[0m\u001b[0;34m\u001b[0m\u001b[0m\n\u001b[1;32m      8\u001b[0m     \u001b[0mimg_array\u001b[0m \u001b[0;34m=\u001b[0m \u001b[0mnp\u001b[0m\u001b[0;34m.\u001b[0m\u001b[0masarray\u001b[0m\u001b[0;34m(\u001b[0m\u001b[0mbytearray\u001b[0m\u001b[0;34m(\u001b[0m\u001b[0mrequest\u001b[0m\u001b[0;34m.\u001b[0m\u001b[0mread\u001b[0m\u001b[0;34m(\u001b[0m\u001b[0;34m)\u001b[0m\u001b[0;34m)\u001b[0m\u001b[0;34m,\u001b[0m \u001b[0mdtype\u001b[0m\u001b[0;34m=\u001b[0m\u001b[0mnp\u001b[0m\u001b[0;34m.\u001b[0m\u001b[0muint8\u001b[0m\u001b[0;34m)\u001b[0m\u001b[0;34m\u001b[0m\u001b[0m\n\u001b[0;32m----> 9\u001b[0;31m     \u001b[0;32mreturn\u001b[0m \u001b[0mcv2\u001b[0m\u001b[0;34m.\u001b[0m\u001b[0mimdecode\u001b[0m\u001b[0;34m(\u001b[0m\u001b[0mimg_array\u001b[0m\u001b[0;34m,\u001b[0m \u001b[0mCV_LOAD_IMAGE_COLOR\u001b[0m \u001b[0;34m=\u001b[0m \u001b[0mTrue\u001b[0m\u001b[0;34m)\u001b[0m\u001b[0;34m\u001b[0m\u001b[0m\n\u001b[0m\u001b[1;32m     10\u001b[0m \u001b[0;34m\u001b[0m\u001b[0m\n\u001b[1;32m     11\u001b[0m \u001b[0;31m#imgURL = 'http://scontent-b.cdninstagram.com/hphotos-xfa1/t51.2885-15/10864805_880408875336991_181445591_n.jpg'\u001b[0m\u001b[0;34m\u001b[0m\u001b[0;34m\u001b[0m\u001b[0m\n",
        "\u001b[0;31mTypeError\u001b[0m: Required argument 'flags' (pos 2) not found"
       ]
      }
     ],
     "prompt_number": 38
    },
    {
     "cell_type": "code",
     "collapsed": false,
     "input": [
      "faces = face_cascade.detectMultiScale(img, 1.3, 5)\n",
      "for (x,y,w,h) in faces:\n",
      "    cv2.rectangle(img,(x,y),(x+w,y+h),(255,0,0),2)\n",
      "    #roi_gray = gray[y:y+h, x:x+w]\n",
      "    roi_img = img[y:y+h, x:x+w]\n",
      "    eyes = eye_cascade.detectMultiScale(roi_img)\n",
      "    for (ex,ey,ew,eh) in eyes:\n",
      "        cv2.rectangle(roi_img,(ex,ey),(ex+ew,ey+eh),(0,125,0),2)\n",
      "    \n",
      "    #once you have the eyes you want to look for the nose below the eyes\n",
      "    y_eyes = y + eyes[0][1]\n",
      "    face_bottom = h - eyes[0][1]\n",
      "    cv2.line(img, (0, y_eyes+face_bottom), (x, y_eyes+face_bottom), (0,0,255), thickness=1, lineType=8, shift=0)\n",
      "    #roi_gray_nose = gray[y_eyes:y_eyes+face_bottom, x:x+w]\n",
      "    roi_img_nose = img[y_eyes:y_eyes+face_bottom, x:x+w]\n",
      "    nose = nose_cascade.detectMultiScale(roi_img_nose)\n",
      "    for (nx,ny,nw,nh) in nose:\n",
      "        cv2.rectangle(roi_img_nose, (nx,ny), (nx+nw, ny+nh), (0,0,255),2)\n",
      "            \n",
      "    #mouths are below noses\n",
      "    y_nose_bottom = y_eyes + nose[0][1] + nose[0][3]\n",
      "    cv2.line(img, (0, y_nose_bottom), (x, y_nose_bottom), (0,0,255), thickness=1, lineType=8, shift=0)\n",
      "    #roi_gray_mouth = gray[y_nose_bottom:y+h, x:x+w]\n",
      "    roi_img_mouth = img[y_nose_bottom:y+h, x:x+w]\n",
      "    smile = smile_cascade.detectMultiScale(roi_img_mouth)\n",
      "    for (sx,sy,sw,sh) in smile:\n",
      "        cv2.rectangle(roi_img_mouth, (sx,sy), (sx+sw, sy+sh), (255,0,255),2)\n",
      "    \n",
      "    mouth = mouth_cascade.detectMultiScale(roi_img_mouth)\n",
      "    for (sx,sy,sw,sh) in mouth:\n",
      "        cv2.rectangle(roi_img_mouth, (sx,sy), (sx+sw, sy+sh), (255,255,255),2)\n",
      "    \n",
      "cv2.imshow('img',img)\n",
      "cv2.waitKey(0)\n",
      "cv2.destroyAllWindows()"
     ],
     "language": "python",
     "metadata": {},
     "outputs": []
    },
    {
     "cell_type": "code",
     "collapsed": false,
     "input": [
      "print roi_gray"
     ],
     "language": "python",
     "metadata": {},
     "outputs": [
      {
       "output_type": "stream",
       "stream": "stdout",
       "text": [
        "[[146 146 145 ...,  33  36  47]\n",
        " [144 144 144 ...,  42  34  39]\n",
        " [145 146 146 ...,  58  69  67]\n",
        " ..., \n",
        " [ 20  23  20 ..., 166 168 163]\n",
        " [ 23  15  14 ..., 166 169 164]\n",
        " [ 23  26  29 ..., 167 169 164]]\n"
       ]
      }
     ],
     "prompt_number": 5
    },
    {
     "cell_type": "code",
     "collapsed": false,
     "input": [
      "path = '/Users/andrewjtimmons/Desktop/pics/'\n",
      "dirListing = os.listdir(path)\n",
      "imgList = []\n",
      "for item in dirListing:\n",
      "  if \".jpg\" in item:\n",
      "    imgList.append(path+item)\n",
      "print imgList"
     ],
     "language": "python",
     "metadata": {},
     "outputs": [
      {
       "output_type": "stream",
       "stream": "stdout",
       "text": [
        "['/Users/andrewjtimmons/Desktop/pics/1.jpg', '/Users/andrewjtimmons/Desktop/pics/10.jpg', '/Users/andrewjtimmons/Desktop/pics/11.jpg', '/Users/andrewjtimmons/Desktop/pics/12.jpg', '/Users/andrewjtimmons/Desktop/pics/13.jpg', '/Users/andrewjtimmons/Desktop/pics/14.jpg', '/Users/andrewjtimmons/Desktop/pics/2.jpg', '/Users/andrewjtimmons/Desktop/pics/3.jpg', '/Users/andrewjtimmons/Desktop/pics/4.jpg', '/Users/andrewjtimmons/Desktop/pics/5.jpg', '/Users/andrewjtimmons/Desktop/pics/6.jpg', '/Users/andrewjtimmons/Desktop/pics/7.jpg']\n"
       ]
      }
     ],
     "prompt_number": 6
    },
    {
     "cell_type": "code",
     "collapsed": false,
     "input": [
      "images = []\n",
      "for image in imgList:\n",
      "    images.append(cv2.imread(image))"
     ],
     "language": "python",
     "metadata": {},
     "outputs": [],
     "prompt_number": 7
    },
    {
     "cell_type": "code",
     "collapsed": false,
     "input": [
      "images \n",
      "faces = face_cascade.detectMultiScale(images[1], 1.3, 5)\n",
      "for (x,y,w,h) in faces:\n",
      "    cv2.rectangle(img,(x,y),(x+w,y+h),(255,0,0),2)\n",
      "    roi_gray = gray[y:y+h, x:x+w]\n",
      "    roi_color = img[y:y+h, x:x+w]\n",
      "    eyes = eye_cascade.detectMultiScale(roi_gray)\n",
      "    for (ex,ey,ew,eh) in eyes:\n",
      "        cv2.rectangle(roi_color,(ex,ey),(ex+ew,ey+eh),(0,255,0),2)\n",
      "\n",
      "cv2.imshow('img',img)\n",
      "cv2.waitKey(0)\n",
      "cv2.destroyAllWindows()"
     ],
     "language": "python",
     "metadata": {},
     "outputs": [],
     "prompt_number": 8
    },
    {
     "cell_type": "code",
     "collapsed": false,
     "input": [
      "for x in range(1,8):\n",
      "    img = cv2.imread('/Users/andrewjtimmons/Desktop/PICS/%d.jpg' % x)\n",
      "    faces = face_cascade.detectMultiScale(img, 1.3, 5)\n",
      "    for (x,y,w,h) in faces:\n",
      "        cv2.rectangle(img,(x,y),(x+w,y+h),(255,0,0),2)\n",
      "        roi_gray = gray[y:y+h, x:x+w]\n",
      "        roi_color = img[y:y+h, x:x+w]\n",
      "        eyes = eye_cascade.detectMultiScale(roi_gray)\n",
      "        for (ex,ey,ew,eh) in eyes:\n",
      "            cv2.rectangle(roi_color,(ex,ey),(ex+ew,ey+eh),(0,255,0),2)\n",
      "\n",
      "        #once you have the eyes you want to look for the nose below the eyes\n",
      "        #ynose = y*1.33\n",
      "        y_eyes = y + eyes[0][1]\n",
      "        face_bottom = h - eyes[0][1]\n",
      "        cv2.line(img, (0, y_eyes+face_bottom), (x, y_eyes+face_bottom), (0,0,255), thickness=1, lineType=8, shift=0)\n",
      "        roi_gray_nose = gray[y_eyes:y_eyes+face_bottom, x:x+w]\n",
      "        roi_color_nose = img[y_eyes:y_eyes+face_bottom, x:x+w]\n",
      "        nose = nose_cascade.detectMultiScale(roi_gray_nose)\n",
      "        for (nx,ny,nw,nh) in nose:\n",
      "            cv2.rectangle(roi_color_nose, (nx,ny), (nx+nw, ny+nh), (0,0,255),2)\n",
      "\n",
      "        #mouths are below noses\n",
      "        y_nose_bottom = y_eyes + nose[0][1] + nose[0][3]\n",
      "        cv2.line(img, (0, y_nose_bottom), (x, y_nose_bottom), (0,0,255), thickness=1, lineType=8, shift=0)\n",
      "        roi_gray_mouth = gray[y_nose_bottom:y+h, x:x+w]\n",
      "        roi_color_mouth = img[y_nose_bottom:y+h, x:x+w]\n",
      "        smile = smile_cascade.detectMultiScale(roi_gray_mouth)\n",
      "        for (sx,sy,sw,sh) in smile:\n",
      "            cv2.rectangle(roi_color_mouth, (sx,sy), (sx+sw, sy+sh), (255,0,255),2)\n",
      "\n",
      "        mouth = mouth_cascade.detectMultiScale(roi_gray_mouth)\n",
      "        for (sx,sy,sw,sh) in mouth:\n",
      "            cv2.rectangle(roi_color_mouth, (sx,sy), (sx+sw, sy+sh), (255,255,255),2)\n",
      "\n",
      "    cv2.imshow('img',img)\n",
      "    cv2.waitKey(0)\n",
      "    cv2.destroyAllWindows()"
     ],
     "language": "python",
     "metadata": {},
     "outputs": [
      {
       "ename": "NameError",
       "evalue": "name 'gray' is not defined",
       "output_type": "pyerr",
       "traceback": [
        "\u001b[0;31m---------------------------------------------------------------------------\u001b[0m\n\u001b[0;31mNameError\u001b[0m                                 Traceback (most recent call last)",
        "\u001b[0;32m<ipython-input-18-a89c3848d5df>\u001b[0m in \u001b[0;36m<module>\u001b[0;34m()\u001b[0m\n\u001b[1;32m      4\u001b[0m     \u001b[0;32mfor\u001b[0m \u001b[0;34m(\u001b[0m\u001b[0mx\u001b[0m\u001b[0;34m,\u001b[0m\u001b[0my\u001b[0m\u001b[0;34m,\u001b[0m\u001b[0mw\u001b[0m\u001b[0;34m,\u001b[0m\u001b[0mh\u001b[0m\u001b[0;34m)\u001b[0m \u001b[0;32min\u001b[0m \u001b[0mfaces\u001b[0m\u001b[0;34m:\u001b[0m\u001b[0;34m\u001b[0m\u001b[0m\n\u001b[1;32m      5\u001b[0m         \u001b[0mcv2\u001b[0m\u001b[0;34m.\u001b[0m\u001b[0mrectangle\u001b[0m\u001b[0;34m(\u001b[0m\u001b[0mimg\u001b[0m\u001b[0;34m,\u001b[0m\u001b[0;34m(\u001b[0m\u001b[0mx\u001b[0m\u001b[0;34m,\u001b[0m\u001b[0my\u001b[0m\u001b[0;34m)\u001b[0m\u001b[0;34m,\u001b[0m\u001b[0;34m(\u001b[0m\u001b[0mx\u001b[0m\u001b[0;34m+\u001b[0m\u001b[0mw\u001b[0m\u001b[0;34m,\u001b[0m\u001b[0my\u001b[0m\u001b[0;34m+\u001b[0m\u001b[0mh\u001b[0m\u001b[0;34m)\u001b[0m\u001b[0;34m,\u001b[0m\u001b[0;34m(\u001b[0m\u001b[0;36m255\u001b[0m\u001b[0;34m,\u001b[0m\u001b[0;36m0\u001b[0m\u001b[0;34m,\u001b[0m\u001b[0;36m0\u001b[0m\u001b[0;34m)\u001b[0m\u001b[0;34m,\u001b[0m\u001b[0;36m2\u001b[0m\u001b[0;34m)\u001b[0m\u001b[0;34m\u001b[0m\u001b[0m\n\u001b[0;32m----> 6\u001b[0;31m         \u001b[0mroi_gray\u001b[0m \u001b[0;34m=\u001b[0m \u001b[0mgray\u001b[0m\u001b[0;34m[\u001b[0m\u001b[0my\u001b[0m\u001b[0;34m:\u001b[0m\u001b[0my\u001b[0m\u001b[0;34m+\u001b[0m\u001b[0mh\u001b[0m\u001b[0;34m,\u001b[0m \u001b[0mx\u001b[0m\u001b[0;34m:\u001b[0m\u001b[0mx\u001b[0m\u001b[0;34m+\u001b[0m\u001b[0mw\u001b[0m\u001b[0;34m]\u001b[0m\u001b[0;34m\u001b[0m\u001b[0m\n\u001b[0m\u001b[1;32m      7\u001b[0m         \u001b[0mroi_color\u001b[0m \u001b[0;34m=\u001b[0m \u001b[0mimg\u001b[0m\u001b[0;34m[\u001b[0m\u001b[0my\u001b[0m\u001b[0;34m:\u001b[0m\u001b[0my\u001b[0m\u001b[0;34m+\u001b[0m\u001b[0mh\u001b[0m\u001b[0;34m,\u001b[0m \u001b[0mx\u001b[0m\u001b[0;34m:\u001b[0m\u001b[0mx\u001b[0m\u001b[0;34m+\u001b[0m\u001b[0mw\u001b[0m\u001b[0;34m]\u001b[0m\u001b[0;34m\u001b[0m\u001b[0m\n\u001b[1;32m      8\u001b[0m         \u001b[0meyes\u001b[0m \u001b[0;34m=\u001b[0m \u001b[0meye_cascade\u001b[0m\u001b[0;34m.\u001b[0m\u001b[0mdetectMultiScale\u001b[0m\u001b[0;34m(\u001b[0m\u001b[0mroi_gray\u001b[0m\u001b[0;34m)\u001b[0m\u001b[0;34m\u001b[0m\u001b[0m\n",
        "\u001b[0;31mNameError\u001b[0m: name 'gray' is not defined"
       ]
      }
     ],
     "prompt_number": 18
    },
    {
     "cell_type": "code",
     "collapsed": false,
     "input": [
      "def LabelFaces(img):\n",
      "    \"\"\"\n",
      "    TODO define label as color with a box\n",
      "    Labels the face in the color image and returns\n",
      "    the face region of insterest in grayscale and color\n",
      "    \n",
      "    Vars: \n",
      "        TODO document this\n",
      "    \"\"\"\n",
      "    \n",
      "    faces = face_cascade.detectMultiScale(img)\n",
      "    faces_rois = []\n",
      "    \n",
      "    for (x,y,w,h) in faces:\n",
      "        cv2.rectangle(img,(x,y),(x+w,y+h),(255,0,0),2)\n",
      "        faces_rois.append(img[y:y+h, x:x+w])\n",
      "    \n",
      "    cv2.imshow('img',img)\n",
      "    cv2.waitKey(0)\n",
      "    cv2.destroyAllWindows()\n",
      "    \n",
      "    if faces_rois:\n",
      "        return faces_rois\n",
      "    else:\n",
      "        return None\n",
      "\n",
      "def LabelEyes(img):\n",
      "    \"\"\"\n",
      "    TODO define label as color with a box\n",
      "    Labels the face in the color image and returns\n",
      "    the face region of insterest in grayscale and color\n",
      "    \n",
      "    Vars: \n",
      "        TODO document this\n",
      "    \"\"\"\n",
      "    eyes = eye_cascade.detectMultiScale(img)\n",
      "    for (ex,ey,ew,eh) in eyes:\n",
      "        cv2.rectangle(img,(ex,ey),(ex+ew,ey+eh),(0,255,0),2)\n",
      "\n",
      "    cv2.imshow('img',img)\n",
      "    cv2.waitKey(0)\n",
      "    cv2.destroyAllWindows()\n",
      "    \n",
      "    \"\"\"\n",
      "        eyes = eye_cascade.detectMultiScale(roi_gray)\n",
      "        for (ex,ey,ew,eh) in eyes:\n",
      "            cv2.rectangle(roi_color,(ex,ey),(ex+ew,ey+eh),(0,255,0),2)\n",
      "\n",
      "        #once you have the eyes you want to look for the nose below the eyes\n",
      "        #ynose = y*1.33\n",
      "        y_eyes = y + eyes[0][1]\n",
      "        face_bottom = h - eyes[0][1]\n",
      "        cv2.line(img, (0, y_eyes+face_bottom), (x, y_eyes+face_bottom), (0,0,255), thickness=1, lineType=8, shift=0)\n",
      "        roi_gray_nose = gray[y_eyes:y_eyes+face_bottom, x:x+w]\n",
      "        roi_color_nose = img[y_eyes:y_eyes+face_bottom, x:x+w]\n",
      "        nose = nose_cascade.detectMultiScale(roi_gray_nose)\n",
      "        for (nx,ny,nw,nh) in nose:\n",
      "            cv2.rectangle(roi_color_nose, (nx,ny), (nx+nw, ny+nh), (0,0,255),2)\n",
      "\n",
      "        #mouths are below noses\n",
      "        y_nose_bottom = y_eyes + nose[0][1] + nose[0][3]\n",
      "        cv2.line(img, (0, y_nose_bottom), (x, y_nose_bottom), (0,0,255), thickness=1, lineType=8, shift=0)\n",
      "        roi_gray_mouth = gray[y_nose_bottom:y+h, x:x+w]\n",
      "        roi_color_mouth = img[y_nose_bottom:y+h, x:x+w]\n",
      "        smile = smile_cascade.detectMultiScale(roi_gray_mouth)\n",
      "        for (sx,sy,sw,sh) in smile:\n",
      "            cv2.rectangle(roi_color_mouth, (sx,sy), (sx+sw, sy+sh), (255,0,255),2)\n",
      "\n",
      "        mouth = mouth_cascade.detectMultiScale(roi_gray_mouth)\n",
      "        for (sx,sy,sw,sh) in mouth:\n",
      "            cv2.rectangle(roi_color_mouth, (sx,sy), (sx+sw, sy+sh), (255,255,255),2)\n",
      "\n",
      "\"\"\""
     ],
     "language": "python",
     "metadata": {},
     "outputs": [],
     "prompt_number": 28
    },
    {
     "cell_type": "code",
     "collapsed": false,
     "input": [
      "LabelFaces(img)"
     ],
     "language": "python",
     "metadata": {},
     "outputs": [
      {
       "metadata": {},
       "output_type": "pyout",
       "prompt_number": 32,
       "text": [
        "[array([[255, 255, 255, ..., 255, 255, 255],\n",
        "        [255, 255, 255, ..., 255, 255, 255],\n",
        "        [255, 255,  29, ...,  40,  41, 255],\n",
        "        ..., \n",
        "        [255, 255,  29, ...,  32,  28, 255],\n",
        "        [255, 255,  30, ...,  30,  27, 255],\n",
        "        [255, 255, 255, ..., 255, 255, 255]], dtype=uint8),\n",
        " array([[255, 255, 255, ..., 255, 255, 255],\n",
        "        [255, 255, 255, ..., 255, 255, 255],\n",
        "        [255, 255,  69, ..., 201, 182, 255],\n",
        "        ..., \n",
        "        [255, 255,  79, ..., 195, 196, 255],\n",
        "        [255, 255,  81, ..., 195, 194, 255],\n",
        "        [255, 255, 255, ..., 255, 255, 255]], dtype=uint8),\n",
        " array([[255, 255, 255, ..., 255, 255, 255],\n",
        "        [255, 255, 255, ..., 255, 255, 255],\n",
        "        [255, 255,  83, ..., 152, 150, 255],\n",
        "        ..., \n",
        "        [255, 255, 159, ...,  38,  33, 255],\n",
        "        [255, 255, 158, ...,  32,  34, 255],\n",
        "        [255, 255, 255, ..., 255, 255, 255]], dtype=uint8),\n",
        " array([[255, 255, 255, ..., 255, 255, 255],\n",
        "        [255, 255, 255, ..., 255, 255, 255],\n",
        "        [255, 255,  76, ...,  68,  72, 255],\n",
        "        ..., \n",
        "        [255, 255,  77, ..., 120, 133, 255],\n",
        "        [255, 255,  77, ..., 121, 129, 255],\n",
        "        [255, 255, 255, ..., 255, 255, 255]], dtype=uint8)]"
       ]
      }
     ],
     "prompt_number": 32
    },
    {
     "cell_type": "code",
     "collapsed": false,
     "input": [
      "LabelEyes(img)"
     ],
     "language": "python",
     "metadata": {},
     "outputs": [],
     "prompt_number": 34
    },
    {
     "cell_type": "code",
     "collapsed": false,
     "input": [
      "class HaarCascades:\n",
      "    \"\"\"Class for Haar Cascades.  Tidy to keep them in one place\n",
      "    and let's you add to new cascades as you choose\"\"\"\n",
      "    def __init__(self):\n",
      "        self.face_cascade = cv2.CascadeClassifier('/Users/andrewjtimmons/anaconda/share/OpenCV/haarcascades/haarcascade_frontalface_default.xml')\n",
      "        self.eye_cascade = cv2.CascadeClassifier('/Users/andrewjtimmons/anaconda/share/OpenCV/haarcascades/haarcascade_eye.xml')\n",
      "        self.mouth_cascade = cv2.CascadeClassifier('/Users/andrewjtimmons/anaconda/share/OpenCV/haarcascades/haarcascade_mcs_mouth.xml')\n",
      "        self.nose_cascade = cv2.CascadeClassifier('/Users/andrewjtimmons/anaconda/share/OpenCV/haarcascades/haarcascade_mcs_nose.xml')\n",
      "        self.smile_cascade = cv2.CascadeClassifier('/Users/andrewjtimmons/anaconda/share/OpenCV/haarcascades/haarcascade_smile.xml')\n",
      "\n",
      "class Img(HaarCascades):\n",
      "    \"Object for each image\"\n",
      "\n",
      "    def __init__(self, url):\n",
      "        self.url = url\n",
      "        self.image = self._create_opencv_image_from_url()\n",
      "        self.grayscale = self._create_grayscale(self.image)\n",
      "        self.faces_rois = self._detect_faces(self.grayscale)\n",
      "        #self.draw_face_box or something like it\n",
      "    \n",
      "    def _create_opencv_image_from_url(self, cv2_img_flag = 1):\n",
      "        \"Get image from URL and convert to an openCV image\"\n",
      "        request = urllib2.urlopen(self.url)\n",
      "        img_array = np.asarray(bytearray(request.read()), dtype=np.uint8)\n",
      "        return cv2.imdecode(img_array, cv2_img_flag)\n",
      "    \n",
      "    def _create_grayscale(self, image):\n",
      "        return cv2.cvtColor(image, cv2.COLOR_BGR2GRAY)\n",
      "    \n",
      "    def _detect_faces(self, gray):\n",
      "        \"Detect faces in the image.  Returns an empty list if no faces.\"\n",
      "        faces = face_cascade.detectMultiScale(gray)\n",
      "        faces_rois = []\n",
      "        for (x,y,w,h) in faces:\n",
      "            cv2.rectangle(self.image,(x,y),(x+w,y+h),(255,0,0),2)\n",
      "            faces_rois.append(self.image[y:y+h, x:x+w])\n",
      "        return faces_rois\n",
      "    \n",
      "    def show_color_image(self):\n",
      "        cv2.imshow('img',self.image)\n",
      "        cv2.waitKey(0)\n",
      "        cv2.destroyAllWindows()\n",
      "    \n",
      "    def show_grayscale_image(self):\n",
      "        cv2.imshow('img',self.image)\n",
      "        cv2.waitKey(0)\n",
      "        cv2.destroyAllWindows()\n",
      "    \n",
      "            \n",
      "class Face(HaarCascades):\n",
      "    \"Object for a detected face.  Each image has 0 or more faces\"\n",
      "    \n",
      "    "
     ],
     "language": "python",
     "metadata": {},
     "outputs": [],
     "prompt_number": 97
    },
    {
     "cell_type": "code",
     "collapsed": false,
     "input": [
      "class Emp:\n",
      "    def __init__(self, age):\n",
      "        self.age = age\n",
      "        self.test = self.derp(age)\n",
      "        \n",
      "    def derp(self, age):\n",
      "        return age*44"
     ],
     "language": "python",
     "metadata": {},
     "outputs": [],
     "prompt_number": 66
    },
    {
     "cell_type": "code",
     "collapsed": false,
     "input": [
      "class dude(Emp):\n",
      "    def __init__(self, age):\n",
      "        self.age = age\n",
      "        self.test = self.derp(age)"
     ],
     "language": "python",
     "metadata": {},
     "outputs": [],
     "prompt_number": 67
    },
    {
     "cell_type": "code",
     "collapsed": false,
     "input": [
      "Mark = dude(5)"
     ],
     "language": "python",
     "metadata": {},
     "outputs": [],
     "prompt_number": 68
    },
    {
     "cell_type": "code",
     "collapsed": false,
     "input": [
      "Mark.test"
     ],
     "language": "python",
     "metadata": {},
     "outputs": [
      {
       "metadata": {},
       "output_type": "pyout",
       "prompt_number": 69,
       "text": [
        "220"
       ]
      }
     ],
     "prompt_number": 69
    },
    {
     "cell_type": "code",
     "collapsed": false,
     "input": [
      "img = Img('http://scontent-b.cdninstagram.com/hphotos-xfa1/t51.2885-15/10864805_880408875336991_181445591_n.jpg')"
     ],
     "language": "python",
     "metadata": {},
     "outputs": [],
     "prompt_number": 98
    },
    {
     "cell_type": "code",
     "collapsed": false,
     "input": [
      "dir(img)"
     ],
     "language": "python",
     "metadata": {},
     "outputs": [
      {
       "metadata": {},
       "output_type": "pyout",
       "prompt_number": 99,
       "text": [
        "['__doc__',\n",
        " '__init__',\n",
        " '__module__',\n",
        " '_create_grayscale',\n",
        " '_create_opencv_image_from_url',\n",
        " '_detect_faces',\n",
        " 'faces_rois',\n",
        " 'grayscale',\n",
        " 'image',\n",
        " 'show_image',\n",
        " 'url']"
       ]
      }
     ],
     "prompt_number": 99
    },
    {
     "cell_type": "code",
     "collapsed": false,
     "input": [
      "img.url"
     ],
     "language": "python",
     "metadata": {},
     "outputs": [
      {
       "metadata": {},
       "output_type": "pyout",
       "prompt_number": 100,
       "text": [
        "'http://scontent-b.cdninstagram.com/hphotos-xfa1/t51.2885-15/10864805_880408875336991_181445591_n.jpg'"
       ]
      }
     ],
     "prompt_number": 100
    },
    {
     "cell_type": "markdown",
     "metadata": {},
     "source": [
      "img.show_image"
     ]
    },
    {
     "cell_type": "code",
     "collapsed": false,
     "input": [
      "img.show_image()"
     ],
     "language": "python",
     "metadata": {},
     "outputs": [],
     "prompt_number": 101
    },
    {
     "cell_type": "code",
     "collapsed": false,
     "input": [],
     "language": "python",
     "metadata": {},
     "outputs": []
    }
   ],
   "metadata": {}
  }
 ]
}